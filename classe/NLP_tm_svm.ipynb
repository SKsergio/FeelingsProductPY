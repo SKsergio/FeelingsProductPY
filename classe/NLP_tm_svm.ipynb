{
 "cells": [
  {
   "cell_type": "markdown",
   "id": "9a070af3",
   "metadata": {},
   "source": [
    "# Text mining "
   ]
  },
  {
   "cell_type": "markdown",
   "id": "8a4e70dd",
   "metadata": {},
   "source": [
    "* Identificar las palabras empleadas por reconocidos usuarios de twitter.\n",
    "\n",
    "* Crear un modelo de machine learning capaz de clasificar la autoría de las publicaciones en base a su texto.\n",
    "\n",
    "* Análisis de sentimientos.\n"
   ]
  },
  {
   "cell_type": "markdown",
   "id": "58af3639",
   "metadata": {},
   "source": [
    "# Extracción datos Twitter\n",
    "\n",
    "Como ocurre en muchas redes sociales, la propia plataforma pone a disposición de los usuarios una API que permite extraer información. Aunque en la mayoría de casos se trata de web services API, con frecuencia existen librerías que permiten interactuar con la API desde diversos lenguajes de programación. Un ejemplo de ello es Tweepy, un wrapper de Python que se comunica con la API de Twitter.\n",
    "\n",
    "Debido a que estas APIs se actualizan con relativa frecuencia, y para evitar que el documento deje de mostrar código funcional, se emplean tweets ya extraídos y que pueden encontrarse en el repositorio de github. Los tweets pertenecen a:\n",
    "\n",
    "Elon Musk (@elonmusk) y Bill Gates (@BillGates), dos directivos de empresas tecnológicas.\n",
    "\n",
    "Mayor Ed Lee (@mayoredlee) alcalde de la ciudad de San Francisco.\n"
   ]
  },
  {
   "cell_type": "code",
   "execution_count": null,
   "id": "b13068e4",
   "metadata": {},
   "outputs": [],
   "source": [
    "# Tratamiento de datos\n",
    "\n",
    "import numpy as np\n",
    "import pandas as pd\n",
    "import string\n",
    "import re\n",
    "'''\n",
    "Una expresión regular (o RE, por sus siglas en inglés) especifica un conjunto\n",
    "de cadenas que coinciden con ella; las funciones de este módulo permiten comprobar\n",
    "si una determinada cadena coincide con una expresión regular dada.\n",
    "https://docs.python.org/es/3/library/re.html\n",
    "\n",
    "'''\n",
    "# Gráficos\n",
    "\n",
    "import matplotlib.pyplot as plt\n",
    "from matplotlib import style\n",
    "import seaborn as sns\n",
    "\n",
    "# Preprocesado y modelado\n",
    "\n",
    "from sklearn import svm # clasificador support vector machines\n",
    "from sklearn.model_selection import train_test_split\n",
    "from sklearn.model_selection import GridSearchCV\n",
    "from sklearn.metrics import confusion_matrix\n",
    "# cambiador de formatos para factorizar un dataset\n",
    "from sklearn.feature_extraction.text import TfidfVectorizer \n",
    "\n",
    "# Configuración warnings\n",
    "\n",
    "import warnings\n",
    "warnings.filterwarnings('ignore')"
   ]
  },
  {
   "cell_type": "code",
   "execution_count": null,
   "id": "005339a9",
   "metadata": {},
   "outputs": [],
   "source": [
    "#!pip install nltk"
   ]
  },
  {
   "cell_type": "code",
   "execution_count": null,
   "id": "c102b31c",
   "metadata": {},
   "outputs": [],
   "source": [
    "import nltk # natural lenguaje tool kit para procesamiento de lenguaje natural\n",
    "#nltk.download('stopwords')\n",
    "from nltk.corpus import stopwords # palabras conectoras que repetimos con frecuencia en un idioma\n"
   ]
  },
  {
   "cell_type": "markdown",
   "id": "663c4091",
   "metadata": {},
   "source": [
    "# Datos\n",
    "para el ejemplo se utiliza una base de datos de tweets recopilados de las 3 personas en 2017"
   ]
  },
  {
   "cell_type": "code",
   "execution_count": null,
   "id": "b9216be1",
   "metadata": {},
   "outputs": [],
   "source": [
    "# Lectura de datos\n",
    "# ==============================================================================\n",
    "'https://github.com/JoaquinAmatRodrigo/Estadistica-con-R/tree/master/datos'\n",
    "url = 'https://raw.githubusercontent.com/JoaquinAmatRodrigo/Estadistica-con-R/refs/heads/master/datos/'\n",
    "tweets_elon   = pd.read_csv(url + \"datos_tweets_@elonmusk.csv\")\n",
    "tweets_edlee  = pd.read_csv(url + \"datos_tweets_@mayoredlee.csv\")\n",
    "tweets_bgates = pd.read_csv(url + \"datos_tweets_@BillGates.csv\")\n",
    "\n",
    "print('Número de tweets @BillGates: ' + str(tweets_bgates.shape[0]))\n",
    "print('Número de tweets @mayoredlee: '+ str(tweets_edlee.shape[0]))\n",
    "print('Número de tweets @elonmusk: '  + str(tweets_elon.shape[0]))"
   ]
  },
  {
   "cell_type": "code",
   "execution_count": null,
   "id": "608ff05d",
   "metadata": {
    "scrolled": true
   },
   "outputs": [],
   "source": [
    "from IPython.core.display import HTML\n",
    "\n",
    "# Se unen los tres dataframes en uno solo\n",
    "tweets = pd.concat([tweets_elon, tweets_edlee, tweets_bgates], ignore_index=True)\n",
    "\n",
    "# Se seleccionan y renombran las columnas de interés\n",
    "tweets = tweets[['screen_name', 'created_at', 'status_id', 'text']]\n",
    "tweets.columns = ['autor', 'fecha', 'id', 'texto']\n",
    "\n",
    "# Parseo de fechas\n",
    "tweets['fecha'] = pd.to_datetime(tweets['fecha'])\n",
    "#tweets.head(3)\n",
    "display(HTML(tweets.to_html()))"
   ]
  },
  {
   "cell_type": "markdown",
   "id": "f4b75429",
   "metadata": {},
   "source": [
    "### Distribución temporal de los tweets\n",
    "\n",
    "\n",
    "Dado que cada usuario puede haber iniciado su actividad en Twitter en diferente momento, es interesante explorar si los tweets recuperados comparten el mismo tiempo.\n"
   ]
  },
  {
   "cell_type": "code",
   "execution_count": null,
   "id": "92df6a32",
   "metadata": {},
   "outputs": [],
   "source": [
    "# Distribución temporal de los tweets\n",
    "\n",
    "fig, ax = plt.subplots(figsize=(9,4))\n",
    "\n",
    "for autor in tweets.autor.unique():\n",
    "#en la columna autor busca y ejecuta el loop teniendo como contador cada unico posible autor\n",
    "    df_temp = tweets[tweets['autor'] == autor].copy()\n",
    "    #crea un marco de datos temporal 'df_temp' que contiene sólo los tweets del autor actual.\n",
    "\n",
    "    df_temp['fecha'] = pd.to_datetime(df_temp['fecha'].dt.strftime('%Y-%m'))\n",
    "#convierte la columna 'fecha' de 'df_temp' en un objeto datetime con el formato '%Y-%m' (año-mes).\n",
    "    \n",
    "    df_temp = df_temp.groupby(df_temp['fecha']).size()\n",
    "#agrupa el marco de datos 'df_temp' por la columna 'fecha' y cuenta el número de tweets de cada \n",
    "# mes.\n",
    "    \n",
    "    df_temp.plot(label=autor, ax=ax)\n",
    "# Esta línea traza el número de tweets de cada mes en el objeto de eje actual 'ax' y etiqueta \n",
    "#el gráfico con el nombre del autor.\n",
    "ax.set_title('Número de tweets publicados por mes')\n",
    "ax.legend(); # poner ; al final de una isntruccion hace que se ejecute en vez de mostrarse como output\n",
    "\n"
   ]
  },
  {
   "cell_type": "markdown",
   "id": "776b7274",
   "metadata": {},
   "source": [
    "Puede observarse un perfil de actividad distinto para cada usuario. Bill Gates ha mantenido una actividad constante de en torno a 30 tweets por mes durante todo el periodo estudiado. Elon Musk muestra una actividad inicial por debajo de la de Bill Gates pero, a partir de febrero de 2016, incrementó notablemente el número de tweets publicados. Ed Lee tiene una actividad muy alta sobre todo en el periodo 2017. Debido a las limitaciones que impone Twitter en las recuperaciones, cuanto más activo es un usuario, menor es el intervalo de tiempo para el que se recuperan tweets. En el caso de Ed Lee, dado que publica con mucha más frecuencia que el resto, con la misma cantidad de tweets recuperados se abarca menos de la mitad del rango temporal que con los otros."
   ]
  },
  {
   "cell_type": "markdown",
   "id": "4ba84561",
   "metadata": {},
   "source": [
    "# Limpieza y Tokenización\n",
    "\n",
    "\n",
    "El proceso de limpieza de texto, dentro del ámbito de text mining, consiste en eliminar del texto todo aquello que no aporte información sobre su temática, estructura o contenido. No existe una única forma de hacerlo, depende en gran medida de la finalidad del análisis y de la fuente de la que proceda el texto. Por ejemplo, en las redes sociales, los usuarios pueden escribir de la forma que quieran, lo que suele resultar en un uso elevado de abreviaturas y signos de puntuación. En este ejercicio, se procede a eliminar: patrones no informativos (urls de páginas web), signos de puntuación, etiquetas HTML, caracteres sueltos y números.\n",
    "\n",
    "Tokenizar un texto consiste en dividir el texto en las unidades que lo conforman, entendiendo por token el elemento más sencillo con significado propio para el análisis en cuestión, en este caso, las palabras.\n",
    "\n",
    "Existen múltiples librerías que automatizan en gran medida la limpieza y tokenización de texto, por ejemplo, la clase feature_extraction.text.CountVectorizer de Scikit Learn, nltk.tokenize o spaCy. A pesar de ello, para este ejemplo, se define una función que, si bien está menos optimizada, tiene la ventaja de poder adaptarse fácilmente dependiendo del tipo de texto analizado. (tokenizador manual y customizable)"
   ]
  },
  {
   "cell_type": "code",
   "execution_count": null,
   "id": "21090683",
   "metadata": {},
   "outputs": [],
   "source": [
    "print(\"______________________________________________________________________\")\n",
    "print(string.punctuation)\n",
    "print(re.escape(string.punctuation))\n",
    "print(\"______________________________________________________________________\")"
   ]
  },
  {
   "cell_type": "code",
   "execution_count": null,
   "id": "84bda21c",
   "metadata": {},
   "outputs": [],
   "source": [
    "def limpiar_tokenizar(texto):\n",
    "    '''\n",
    "    Esta función limpia y tokeniza el texto en palabras individuales.\n",
    "    El orden en el que se va limpiando el texto no es arbitrario.\n",
    "    El listado de signos de puntuación se ha obtenido de: string.punctuation\n",
    "    y re.escape(string.punctuation)\n",
    "    \n",
    "    print(\"______________________________________________________________________\")\n",
    "    print(string.punctuation)\n",
    "    print(re.escape(string.punctuation))\n",
    "    print(\"______________________________________________________________________\")\n",
    "    \n",
    "    '''\n",
    "\n",
    "    \n",
    "    # Se convierte todo el texto a minúsculas\n",
    "    nuevo_texto = texto.lower()\n",
    "    # Eliminación de páginas web (palabras que empiezan por \"http\")\n",
    "    nuevo_texto = re.sub('http\\S+', ' ', nuevo_texto)\n",
    "    # Eliminación de signos de puntuación\n",
    "    regex = '[\\\\!\\\\\"\\\\#\\\\$\\\\%\\\\&\\\\\\'\\\\(\\\\)\\\\*\\\\+\\\\,\\\n",
    "    \\-\\\\.\\\\/\\\\:\\\\;\\\\<\\\\=\\\\>\\\\?\\\\@\\\\[\\\\\\\\\\\\]\\\\^_\\\\`\\\\{\\\\|\\\\}\\\\~]'\n",
    "    nuevo_texto = re.sub(regex , ' ', nuevo_texto)\n",
    "    # Eliminación de números\n",
    "    nuevo_texto = re.sub(\"\\d+\", ' ', nuevo_texto)\n",
    "    # Eliminación de espacios en blanco múltiples\n",
    "    nuevo_texto = re.sub(\"\\\\s+\", ' ', nuevo_texto)\n",
    "    # Tokenización por palabras individuales\n",
    "    nuevo_texto = nuevo_texto.split(sep = ' ')\n",
    "    # Eliminación de tokens con una longitud < 2\n",
    "    nuevo_texto = [token for token in nuevo_texto if len(token) > 1]\n",
    "    \n",
    "    return(nuevo_texto)\n",
    "\n",
    "test = \"Esto es 1 ejemplo de l'limpieza de6 TEXTO  https://t.co/rnHPgyhx4Z @cienciadedatos #textmining\"\n",
    "print(test)\n",
    "print(limpiar_tokenizar(texto=test))"
   ]
  },
  {
   "cell_type": "markdown",
   "id": "99def96e",
   "metadata": {},
   "source": [
    "La función limpiar_tokenizar() elimina el símbolo @ y # de las palabras a las que acompañan. En Twitter, los usuarios se identifican de esta forma, por lo que @ y # pertenecen al nombre. Aunque es importante tener en cuenta las eliminaciones del proceso de limpieza, el impacto en este caso no es demasiado alto, ya que, si un documento se caracteriza por tener la palabra #datascience, también será detectado fácilmente mediante la palabra datascience."
   ]
  },
  {
   "cell_type": "code",
   "execution_count": null,
   "id": "6d0c4290",
   "metadata": {},
   "outputs": [],
   "source": [
    "# Se aplica la función de limpieza y tokenización a cada tweet\n",
    "# ==============================================================================\n",
    "tweets['texto_tokenizado'] = tweets['texto'].apply(lambda x: limpiar_tokenizar(x))\n",
    "tweets[['texto', 'texto_tokenizado']].head()"
   ]
  },
  {
   "cell_type": "markdown",
   "id": "09a4a76a",
   "metadata": {},
   "source": [
    "# Análisis \n",
    "\n",
    "\n",
    "A la hora de entender que caracteriza la escritura de cada autor, es interesante estudiar qué palabras emplea, con qué frecuencia, así como el significado de las mismas.\n",
    "\n",
    "En Python, una de las estructuras que más facilita el análisis exploratorio es el DataFrame de Pandas, que es la estructura en la que se encuentra almacenada ahora la información de los tweets. Sin embargo, al realizar la tokenización, ha habido un cambio importante. Antes de dividir el texto, los elementos de estudio eran los tweets, y cada uno se encontraba en una fila, cumplimento así la condición de tidy data: una observación, una fila. Al realizar la tokenización, el elemento de estudio ha pasado a ser cada token (palabra), incumpliendo así la condición de tidy data. Para volver de nuevo a la estructura ideal se tiene que expandir cada lista de tokens, duplicando el valor de las otras columnas tantas veces como sea necesario. A este proceso se le conoce como expansión o unnest.\n",
    "\n",
    "Aunque puede parecer un proceso poco eficiente (el número de filas aumenta mucho), este simple cambio facilita actividades de tipo: agrupación, contaje, gráficos...\n"
   ]
  },
  {
   "cell_type": "code",
   "execution_count": null,
   "id": "1068315f",
   "metadata": {},
   "outputs": [],
   "source": [
    "# Unnest de la columna texto_tokenizado\n",
    "\n",
    "tweets_tidy = tweets.explode(column='texto_tokenizado')\n",
    "# La función explode en pandas se utiliza para transformar cada elemento\n",
    "# de una lista en una fila, replicando los valores del índice.\n",
    "tweets_tidy = tweets_tidy.drop(columns='texto')\n",
    "tweets_tidy = tweets_tidy.rename(columns={'texto_tokenizado':'token'})\n",
    "tweets_tidy.head(3)"
   ]
  },
  {
   "cell_type": "markdown",
   "id": "0555aa7c",
   "metadata": {},
   "source": [
    "### Frecuencia de palabras"
   ]
  },
  {
   "cell_type": "code",
   "execution_count": null,
   "id": "27e3ff07",
   "metadata": {},
   "outputs": [],
   "source": [
    "# Palabras totales utilizadas por cada autor\n",
    "# ==============================================================================\n",
    "print('--------------------------')\n",
    "print('Palabras totales por autor')\n",
    "print('--------------------------')\n",
    "tweets_tidy.groupby(by='autor')['token'].count()"
   ]
  },
  {
   "cell_type": "code",
   "execution_count": null,
   "id": "27a64993",
   "metadata": {},
   "outputs": [],
   "source": [
    "# Palabras distintas utilizadas por cada autor\n",
    "# ==============================================================================\n",
    "print('----------------------------')\n",
    "print('Palabras distintas por autor')\n",
    "print('----------------------------')\n",
    "tweets_tidy.groupby(by='autor')['token'].nunique()"
   ]
  },
  {
   "cell_type": "markdown",
   "id": "e27e9e89",
   "metadata": {},
   "source": [
    "Aunque Elon Musk no es el que más palabras totales ha utilizado, bien porque ha publicado menos tweets o porque estos son más cortos, es el que más palabras distintas emplea.(contenido de valor)"
   ]
  },
  {
   "cell_type": "markdown",
   "id": "1f066ef4",
   "metadata": {},
   "source": [
    "### Longitud media de tweets"
   ]
  },
  {
   "cell_type": "code",
   "execution_count": null,
   "id": "87f0bd4e",
   "metadata": {},
   "outputs": [],
   "source": [
    "# Longitud media y desviación de los tweets de cada autor\n",
    "# ==============================================================================\n",
    "temp_df = pd.DataFrame(tweets_tidy.groupby(by = [\"autor\", \"id\"])[\"token\"].count())\n",
    "temp_df.reset_index().groupby(\"autor\")[\"token\"].agg(['mean', 'std'])\n",
    "#el metodo agg aplica varias funciones a una misma celda o columna dentro de un pd_df"
   ]
  },
  {
   "cell_type": "markdown",
   "id": "f139b84e",
   "metadata": {},
   "source": [
    "El tipo de tweet de Bill Gates y Mayor Ed Lee es similar en cuanto a longitud media y desviación. Elon Musk alterna más entre tweets cortos y largos, siendo su media inferior a la de los otros dos."
   ]
  },
  {
   "cell_type": "markdown",
   "id": "1a54731f",
   "metadata": {},
   "source": [
    "### Palabras más utilizadas por autor"
   ]
  },
  {
   "cell_type": "code",
   "execution_count": null,
   "id": "5b57e816",
   "metadata": {},
   "outputs": [],
   "source": [
    "# Top 5 palabras más utilizadas por cada autor\n",
    "# ==============================================================================\n",
    "tweets_tidy.groupby(['autor','token'])['token'] \\\n",
    " .count() \\\n",
    " .reset_index(name='count') \\\n",
    " .groupby('autor') \\\n",
    " .apply(lambda x: x.sort_values('count', ascending=False).head(5))"
   ]
  },
  {
   "cell_type": "markdown",
   "id": "51dcf3c2",
   "metadata": {},
   "source": [
    "## Stop words\n",
    "\n",
    "En la tabla anterior puede observarse que los términos más frecuentes en todos los usuarios se corresponden con artículos, preposiciones, pronombres…, en general, palabras que no aportan información relevante sobre el texto. Estas palabras se conocen como stopwords. Para cada idioma existen distintos listados de stopwords, además, dependiendo del contexto, puede ser necesario adaptar el listado. Por ejemplo, en la tabla anterior aparece el término amp que procede de la etiqueta html &amp. Con frecuencia, a medida que se realiza un análisis se encuentran palabras que deben incluirse en el listado de stopwords."
   ]
  },
  {
   "cell_type": "code",
   "execution_count": null,
   "id": "fd50afca",
   "metadata": {},
   "outputs": [],
   "source": [
    "# Obtención de listado de stopwords del inglés\n",
    "# ==============================================================================\n",
    "stop_words = list(stopwords.words('english'))\n",
    "# Se añade la stoprword: amp, xa, xe\n",
    "stop_words.extend((\"amp\", \"xa\", \"xe\"))\n",
    "print(stop_words[:100])"
   ]
  },
  {
   "cell_type": "code",
   "execution_count": null,
   "id": "c2ccaeaa",
   "metadata": {},
   "outputs": [],
   "source": [
    "# Filtrado para excluir stopwords\n",
    "# ==============================================================================\n",
    "tweets_tidy = tweets_tidy[~(tweets_tidy[\"token\"].isin(stop_words))]\n",
    "'''\n",
    "~(tweets_tidy[\"token\"].isin(stop_words)): aplica el operador bitwise NOT (~) \n",
    "al resultado del método isin. Esto invierte los valores booleanos,\n",
    "de modo que True se convierte en False y viceversa. \n",
    "Esto significa que las filas en las que el símbolo es un stopword \n",
    "tendrán ahora valores falsos, y las filas en las que el símbolo no es un stopword\n",
    "tendrán valores verdaderos.\n",
    "'''\n",
    "print()\n",
    "\n",
    "\n"
   ]
  },
  {
   "cell_type": "code",
   "execution_count": null,
   "id": "98125b92",
   "metadata": {},
   "outputs": [],
   "source": [
    "# Top 10 palabras por autor (sin stopwords)\n",
    "# ==============================================================================\n",
    "fig, axs = plt.subplots(nrows=3, ncols=1,figsize=(6, 7))\n",
    "for i, autor in enumerate(tweets_tidy.autor.unique()):\n",
    "    df_temp = tweets_tidy[tweets_tidy.autor == autor]\n",
    "    counts  = df_temp['token'].value_counts(ascending=False).head(10)\n",
    "    counts.plot(kind='barh', color='firebrick', ax=axs[i])\n",
    "    axs[i].invert_yaxis()\n",
    "    axs[i].set_title(autor)\n",
    "\n",
    "fig.tight_layout()"
   ]
  },
  {
   "cell_type": "markdown",
   "id": "02cf74be",
   "metadata": {},
   "source": [
    "Los resultados obtenidos tienen sentido si ponemos en contexto la actividad profesional de los usuarios analizados. Mayor Ed Lee es alcalde de San Francisco (sf), por lo que sus tweets están relacionados con la ciudad, residentes, familias, casas... Elon Musk dirige varias empresas tecnológicas entre las que destacan Tesla y SpaceX, dedicadas a los coches y a la aeronáutica. Por último, Bill Gates, además de propietario de microsoft, dedica parte de su capital a fundaciones de ayuda, de ahí las palabras mundo, polio, ayuda..."
   ]
  },
  {
   "cell_type": "markdown",
   "id": "9fb20d6e",
   "metadata": {},
   "source": [
    "## Correlación entre autores\n",
    "\n",
    "\n",
    "Una forma de cuantificar la similitud entre los perfiles de dos usuarios de Twitter es calculando la correlación en el uso de palabras. La idea es que, si dos usuarios escriben de forma similar, tenderán a utilizar las mismas palabras y con frecuencias similares. La medida de similitud más utilizada al trabajar con texto es 1 - distancia coseno.\n",
    "\n",
    "Para poder generar los estudios de correlación se necesita disponer de cada variable en una columna. En este caso, las variables a correlacionar son los autores."
   ]
  },
  {
   "cell_type": "code",
   "execution_count": null,
   "id": "844c7911",
   "metadata": {},
   "outputs": [],
   "source": [
    "# Pivotado de datos\n",
    "# ==============================================================================\n",
    "tweets_pivot = tweets_tidy.groupby([\"autor\",\"token\"])[\"token\"] \\\n",
    "                .agg([\"count\"]).reset_index() \\\n",
    "                .pivot(index = \"token\" , columns=\"autor\", values= \"count\")\n",
    "tweets_pivot.columns.name = None"
   ]
  },
  {
   "cell_type": "code",
   "execution_count": null,
   "id": "b5cdf32a",
   "metadata": {},
   "outputs": [],
   "source": [
    "pv_print=tweets_pivot[:100]\n",
    "display(HTML(pv_print.to_html()))\n",
    "print(f\"total de palabras usadas por las 3 personas: {len(tweets_pivot)}\")"
   ]
  },
  {
   "cell_type": "code",
   "execution_count": null,
   "id": "173f5eca",
   "metadata": {},
   "outputs": [],
   "source": [
    "# Test de correlación (coseno) por el uso y frecuencia de palabras\n",
    "# ==============================================================================\n",
    "from scipy.spatial.distance import cosine\n",
    "\n",
    "def similitud_coseno(a,b):\n",
    "    distancia = cosine(a,b)\n",
    "    return 1-distancia\n",
    "\n",
    "tweets_pivot.corr(method=similitud_coseno)"
   ]
  },
  {
   "cell_type": "code",
   "execution_count": null,
   "id": "feb1e709",
   "metadata": {},
   "outputs": [],
   "source": [
    "# Número de palabras comunes\n",
    "'''\n",
    "set(): una estructura de datos incorporada en Python que almacena elementos únicos\n",
    "y proporciona pruebas rápidas de pertenencia.\n",
    "'''\n",
    "palabras_elon = set(tweets_tidy[tweets_tidy.autor == 'elonmusk']['token'])\n",
    "palabras_bill = set(tweets_tidy[tweets_tidy.autor == 'BillGates']['token'])\n",
    "palabras_edlee = set(tweets_tidy[tweets_tidy.autor == 'mayoredlee']['token'])\n",
    "\n",
    "print(f\"Palabras comunes entre Elon Musk y Ed Lee: {len(palabras_elon.intersection(palabras_edlee))}\")\n",
    "print(f\"Palabras comunes entre Elon Elon Musk y Bill Gates: {len(palabras_elon.intersection(palabras_bill))}\")"
   ]
  },
  {
   "cell_type": "markdown",
   "id": "570bc7c2",
   "metadata": {},
   "source": [
    "Aunque el número de palabras comunes entre Elon Musk y Bill Gates y entre Elon Musk y Ed Lee es similar, la correlación basada en su uso es mayor entre Elon Musk y Bill Gates. Esto tiene sentido si se contempla el hecho de que ambos trabajan como directivos de empresas tecnológicas."
   ]
  },
  {
   "cell_type": "markdown",
   "id": "b4531a36",
   "metadata": {},
   "source": [
    "# Comparación en el uso de palabras\n",
    "\n",
    "\n",
    "A continuación, se estudia qué palabras se utilizan de forma más diferenciada por cada usuario, es decir, palabras que utiliza mucho un autor y que no utiliza el otro. Una forma de hacer este análisis es mediante el log of odds ratio de las frecuencias. Esta comparación se hace por pares, en este caso se comparan Elon Musk y Mayor Ed Lee.\n",
    "\n",
    "log of odds ratio=https://en.wikipedia.org/wiki/Odds_ratio\n",
    " \n",
    "Para realizar este cálculo es necesario que, para todos los usuarios, se cuantifique la frecuencia de cada una de las palabras que aparecen en el conjunto de tweets, es decir, si un autor no ha utilizado una de las palabras que sí ha utilizado otro, debe aparecer esa palabra en su registro con frecuencia igual a cero. Existen varias formas de conseguir esto, una de ellas es pivotar y despivotar el dataframe sustituyendo los NaN por cero."
   ]
  },
  {
   "cell_type": "code",
   "execution_count": null,
   "id": "f50c470d",
   "metadata": {},
   "outputs": [],
   "source": [
    "# Cálculo del log of odds ratio de cada palabra (elonmusk vs mayoredlee)\n",
    "# ==============================================================================\n",
    "# Pivotaje y despivotaje\n",
    "tweets_pivot = tweets_tidy.groupby([\"autor\",\"token\"])[\"token\"] \\\n",
    "                .agg([\"count\"]).reset_index() \\\n",
    "                .pivot(index = \"token\" , columns=\"autor\", values= \"count\")\n",
    "\n",
    "tweets_pivot = tweets_pivot.fillna(value=0)\n",
    "tweets_pivot.columns.name = None\n",
    "\n",
    "tweets_unpivot = tweets_pivot.melt(value_name='n', var_name='autor', ignore_index=False)\n",
    "#La función melt descompone el DataFrame tweets_pivot, que tiene un formato ancho, \n",
    "#en un formato largo. El DataFrame resultante tweets_unpivot tiene una sola columna\n",
    "#para los valores (denominada 'n') y otra columna para los nombres de las variables\n",
    "#(denominada 'autor').\n",
    "tweets_unpivot = tweets_unpivot.reset_index()\n",
    "\n",
    "# Selección de los autores elonmusk y mayoredlee\n",
    "tweets_unpivot = tweets_unpivot[tweets_unpivot.autor.isin(['elonmusk', 'mayoredlee'])]\n",
    "\n",
    "# Se añade el total de palabras de cada autor\n",
    "tweets_unpivot = tweets_unpivot.merge(\n",
    "                    tweets_tidy.groupby('autor')['token'].count().rename('N'),\n",
    "                    how = 'left',\n",
    "                    on  = 'autor'\n",
    "                 )\n"
   ]
  },
  {
   "cell_type": "code",
   "execution_count": null,
   "id": "59d40402",
   "metadata": {},
   "outputs": [],
   "source": [
    "# Cálculo de odds y log of odds de cada palabra\n",
    "tweets_logOdds = tweets_unpivot.copy()\n",
    "tweets_logOdds['odds'] = (tweets_logOdds.n + 1) / (tweets_logOdds.N + 1)\n",
    "tweets_logOdds = tweets_logOdds[['token', 'autor', 'odds']] \\\n",
    "                    .pivot(index='token', columns='autor', values='odds')\n",
    "tweets_logOdds.columns.name = None\n",
    "\n",
    "tweets_logOdds['log_odds']     = np.log(tweets_logOdds.elonmusk/tweets_logOdds.mayoredlee)\n",
    "tweets_logOdds['abs_log_odds'] = np.abs(tweets_logOdds.log_odds)\n",
    "\n",
    "# Si el logaritmo de odds es mayor que cero, significa que es una palabra con\n",
    "# mayor probabilidad de ser de Elon Musk. Esto es así porque el ratio sea ha\n",
    "# calculado como elonmusk/mayoredlee.\n",
    "tweets_logOdds['autor_frecuente'] = np.where(tweets_logOdds.log_odds > 0,\n",
    "                                              \"elonmusk\",\n",
    "                                              \"mayoredlee\"\n",
    "                                            )"
   ]
  },
  {
   "cell_type": "code",
   "execution_count": null,
   "id": "16e21844",
   "metadata": {},
   "outputs": [],
   "source": [
    "print('-----------------------------------')\n",
    "print('Top 10 palabras más diferenciadoras')\n",
    "print('-----------------------------------')\n",
    "tweets_logOdds.sort_values('abs_log_odds', ascending=False).head(10)"
   ]
  },
  {
   "cell_type": "code",
   "execution_count": null,
   "id": "c4e9bb6b",
   "metadata": {},
   "outputs": [],
   "source": [
    "# Top 15 palabras más características de cada autor\n",
    "# ==============================================================================\n",
    "\n",
    "top_15 = tweets_logOdds[['log_odds', 'abs_log_odds', 'autor_frecuente']] \\\n",
    "        .groupby('autor_frecuente') \\\n",
    "        .apply(lambda x: x.nlargest(15, columns='abs_log_odds').reset_index()) \\\n",
    "        .reset_index(drop=True) \\\n",
    "        .sort_values('log_odds')\n",
    "\n",
    "f, ax = plt.subplots(figsize=(4, 7))\n",
    "sns.barplot(\n",
    "    x    = 'log_odds',\n",
    "    y    = 'token',\n",
    "    hue  = 'autor_frecuente',\n",
    "    data = top_15,\n",
    "    ax   = ax\n",
    ")\n",
    "ax.set_title('Top 15 palabras más características de cada autor')\n",
    "ax.set_xlabel('log odds ratio (@elonmusk / mayoredlee)');"
   ]
  },
  {
   "cell_type": "markdown",
   "id": "8fb89334",
   "metadata": {},
   "source": [
    "Estas palabras posiblemente tendrán mucho peso a la hora de clasificar los tweets."
   ]
  },
  {
   "cell_type": "markdown",
   "id": "37215de3",
   "metadata": {},
   "source": [
    "### Term Frequency e Inverse Document Frequency\n",
    "Uno de los principales intereses en text mining, natural language processing e information retrieval es cuantificar la temática de un texto, así como la importancia de cada término que lo forma. Una manera sencilla de medir la importancia de un término dentro de un documento es utilizando la frecuencia con la que aparece (tf, term-frequency). Esta aproximación, aunque simple, tiene la limitación de atribuir mucha importancia a aquellas palabras que aparecen muchas veces aunque no aporten información selectiva. Por ejemplo, si la palabra matemáticas aparece 5 veces en un documento y la palabra página aparece 50, la segunda tendrá 10 veces más peso a pesar de que no aporte tanta información sobre la temática del documento. Para solucionar este problema se pueden ponderar los valores tf multiplicándolos por la inversa de la frecuencia con la que el término en cuestión aparece en el resto de documentos(idf). De esta forma, se consigue reducir el valor de aquellos términos que aparecen en muchos documentos y que, por lo tanto, no aportan información selectiva.\n",
    "\n",
    "El estadístico tf-idf mide cómo de informativo es un término en un documento teniendo en cuenta la frecuencia con la que ese término aparece en otros documentos.\n",
    "\n",
    "A continuación se muestra cómo calcular el valor tf-idf Sin embargo, en la práctica, es preferible utilizar implementaciones como TfidfVectorizer de Scikit Learn\n"
   ]
  },
  {
   "attachments": {
    "imagen_2024-05-13_170649797.png": {
     "image/png": "[encoded data removed]"
    }
   },
   "cell_type": "markdown",
   "id": "719dc215",
   "metadata": {},
   "source": [
    "![imagen_2024-05-13_170649797.png](attachment:imagen_2024-05-13_170649797.png)"
   ]
  },
  {
   "cell_type": "code",
   "execution_count": null,
   "id": "30df4cfb",
   "metadata": {},
   "outputs": [],
   "source": [
    "# Cálculo term-frecuency (tf)\n",
    "# ==============================================================================\n",
    "tf = tweets_tidy.copy()\n",
    "# Número de veces que aparece cada término en cada tweet\n",
    "tf = tf.groupby([\"id\", \"token\"])[\"token\"].agg([\"count\"]).reset_index()\n",
    "# Se añade una columna con el total de términos por tweet\n",
    "tf['total_count'] = tf.groupby('id')['count'].transform(sum)\n",
    "# Se calcula el tf\n",
    "tf['tf'] = tf[\"count\"] / tf[\"total_count\"]\n",
    "tf.sort_values(by = \"tf\",ascending=False).tail(10)"
   ]
  },
  {
   "cell_type": "code",
   "execution_count": null,
   "id": "b85487d4",
   "metadata": {},
   "outputs": [],
   "source": [
    "# Inverse document frequency\n",
    "# ==============================================================================\n",
    "idf = tweets_tidy.copy()\n",
    "total_documents = idf[\"id\"].drop_duplicates().count()\n",
    "# Número de documentos (tweets) en los que aparece cada término\n",
    "idf = idf.groupby([\"token\", \"id\"])[\"token\"].agg([\"count\"]).reset_index()\n",
    "idf['n_tweets_aparece'] = idf.groupby('token')['count'].transform(sum)\n",
    "# Cálculo del idf\n",
    "idf['idf'] = np.log(total_documents / idf['n_tweets_aparece'])\n",
    "idf = idf[[\"token\",\"n_tweets_aparece\", \"idf\"]].drop_duplicates()\n",
    "idf.sort_values(by=\"idf\",ascending=False).tail(10)"
   ]
  },
  {
   "cell_type": "code",
   "execution_count": null,
   "id": "9c419c79",
   "metadata": {
    "scrolled": true
   },
   "outputs": [],
   "source": [
    "# Term Frequency - Inverse Document Frequency\n",
    "# ==============================================================================\n",
    "tf_idf = pd.merge(left=tf, right=idf, on=\"token\")\n",
    "tf_idf[\"tf_idf\"] = tf_idf[\"tf\"] * tf_idf[\"idf\"]\n",
    "tf_idf.sort_values(by=\"id\").tail()"
   ]
  },
  {
   "cell_type": "markdown",
   "id": "89cb8d5d",
   "metadata": {},
   "source": [
    "Puede observarse que para el primer tweet (id = 1.195196e+17), todos los términos que aparecen una vez, tienen el mismo valor de tf, sin embargo, dado que no todos los términos aparecen con la misma frecuencia en el conjunto de todos los tweets, la corrección de idf es distinta para cada uno.\n",
    "\n",
    "De nuevo remarcar que, si bien se ha realizado el cálculo de forma manual con fines ilustrativos, en la práctica, es preferible utilizar implementaciones optimizadas como es el caso de la clase TfidfVectorizer de Scikit Learn."
   ]
  },
  {
   "cell_type": "markdown",
   "id": "b4c11eb7",
   "metadata": {},
   "source": [
    "# Clasificación de tweets\n"
   ]
  },
  {
   "cell_type": "markdown",
   "id": "3505b16a",
   "metadata": {},
   "source": [
    "Para poder aplicar algoritmos de clasificación a un texto, es necesario crear una representación numérica del mismo. Una de las formas más utilizadas se conoce como Bag of Words. Este método consiste en identificar el set formado por todas las palabras (tokens) que aparecen en el corpus, en este caso el conjunto de todos los tweets recuperados. Con este set se crea un espacio n-dimensional en el que cada dimensión (columna) es una palabra. Por último, se proyecta cada texto en ese espacio, asignando un valor para cada dimensión. En la mayoría de casos, el valor utilizado es el tf-idf.\n",
    "\n",
    "En el siguiente apartado se construye un modelo de aprendizaje estadístico basado en máquinas de vector soporte (SVM) con el objetivo de predecir la autoría de los tweets. En concreto, se comparan los tweets de Elon Musk, bill gates y Mayor Ed Lee.\n",
    "\n",
    "Como modelo se emplea un SVM de Scikit-Learn. Para facilitar la obtención de la matriz TF-IDF se recurre a la clase TfidVectorized también de Scikit-Learn pero, en lugar de utilizar el tokenizador por defecto, se emplea el mismo definido en los apartados anteriores.\n",
    "\n"
   ]
  },
  {
   "cell_type": "markdown",
   "id": "bda2ba38",
   "metadata": {},
   "source": [
    "# Train-Test\n",
    "\n",
    "relacion 80/20"
   ]
  },
  {
   "cell_type": "code",
   "execution_count": null,
   "id": "00b1b3b7",
   "metadata": {},
   "outputs": [],
   "source": [
    "# recordemos el df original para trabajar la ML\n",
    "\n",
    "display(HTML(tweets.to_html()))"
   ]
  },
  {
   "cell_type": "code",
   "execution_count": null,
   "id": "881115ee",
   "metadata": {},
   "outputs": [],
   "source": [
    "#split\n",
    "'''\n",
    "datos_X = tweets.loc[tweets.autor.isin(['elonmusk', 'mayoredlee']), 'texto']\n",
    "datos_y = tweets.loc[tweets.autor.isin(['elonmusk', 'mayoredlee']), 'autor']\n",
    "\n",
    "'''\n",
    "\n",
    "datos_X = tweets.loc[tweets.autor.isin(['elonmusk', 'mayoredlee','BillGates']), 'texto']\n",
    "datos_y = tweets.loc[tweets.autor.isin(['elonmusk', 'mayoredlee','BillGates']), 'autor']\n",
    "\n",
    "\n",
    "X_train, X_test, y_train, y_test = train_test_split(\n",
    "    datos_X,\n",
    "    datos_y,\n",
    "    test_size = 0.2,\n",
    "    random_state = 123\n",
    "    \n",
    ")\n"
   ]
  },
  {
   "cell_type": "markdown",
   "id": "633a00c4",
   "metadata": {},
   "source": [
    "Es importante verificar que la proporción de cada grupo es similar en el set de entrenamiento y en el de test"
   ]
  },
  {
   "cell_type": "code",
   "execution_count": null,
   "id": "ed881a67",
   "metadata": {},
   "outputs": [],
   "source": [
    "value, counts = np.unique(y_train, return_counts=True)\n",
    "'''\n",
    "La función devuelve dos matrices: value contiene los valores únicos,\n",
    "y counts contiene el número de veces que cada valor aparece en la matriz original.\n",
    "\n",
    "'''\n",
    "print(\"Train\")\n",
    "print(dict(zip(value, 100 * counts / sum(counts))))\n",
    "print(\"Test\")\n",
    "value, counts = np.unique(y_test, return_counts=True)\n",
    "print(dict(zip(value, 100 * counts / sum(counts))))"
   ]
  },
  {
   "cell_type": "markdown",
   "id": "cfb371e0",
   "metadata": {},
   "source": [
    "# Vectorización tf-idf\n",
    "\n",
    "* libreria: https://scikit-learn.org/stable/modules/generated/sklearn.feature_extraction.text.TfidfVectorizer.html\n",
    "\n",
    "Empleando los tweets de entrenamiento se crea un matriz tf-idf en la que cada columna es un token, cada fila un tweet y el valor de intersección el tf-idf correspondiente. Esta matriz representa el espacio n-dimensional en el que se proyecta cada tweet.\n",
    "\n",
    "La clase TfidfVectorizer de Scikit Learn automatizan la creación de una matriz df-idf a partir de un corpus de documentos. Entre sus argumentos destaca:\n",
    "\n",
    "* encoding: el tipo de codificación del texto, por defecto es 'utf-8'.\n",
    "\n",
    "* strip_accents: eliminación de acentos sustituyendolos por la misma letra sin el acento. Por defecto se emplea el método ‘ascii’.\n",
    "\n",
    "* lowercase: convertir a minúsculas todo el texto.\n",
    "\n",
    "* tokenizer: en caso de querer pasar un tokenizador definido por el usuario o de otra librería.\n",
    "\n",
    "* analyzer: tipo de división que realiza el tokenizador. Por defecto separa por palabras ('word').\n",
    "\n",
    "* stop_words: lista de stopwords que se eliminan durante el tokenizado. Por defecto utiliza un listado para el inglés.\n",
    "\n",
    "* ngram_range: rango de n-gramas incluidos. Por ejemplo, (1, 2) significa que se incluyen unigramas (palabras individuales) y bigramas (pares de palabras) como tokens.\n",
    "\n",
    "* min_df: fracción o número de documentos en los que debe de aparecer como mínimo un termino para no ser excluido en el tokenizado. Este filtrado es una forma de eliminar ruido del modelo.\n"
   ]
  },
  {
   "cell_type": "code",
   "execution_count": null,
   "id": "3c511654",
   "metadata": {},
   "outputs": [],
   "source": [
    "#repito la misma funcion de tokenizador y stopwords que se habia desarrollado previamente\n",
    "\n",
    "def limpiar_tokenizar(texto):\n",
    "    '''\n",
    "    Esta función limpia y tokeniza el texto en palabras individuales.\n",
    "    El orden en el que se va limpiando el texto no es arbitrario.\n",
    "    El listado de signos de puntuación se ha obtenido de: print(string.punctuation)\n",
    "    y re.escape(string.punctuation)\n",
    "    '''\n",
    "    \n",
    "    # Se convierte todo el texto a minúsculas\n",
    "    nuevo_texto = texto.lower()\n",
    "    # Eliminación de páginas web (palabras que empiezan por \"http\")\n",
    "    nuevo_texto = re.sub('http\\S+', ' ', nuevo_texto)\n",
    "    # Eliminación de signos de puntuación\n",
    "    regex = '[\\\\!\\\\\"\\\\#\\\\$\\\\%\\\\&\\\\\\'\\\\(\\\\)\\\\*\\\\+\\\\,\\\\-\\\\.\\\\/\\\\:\\\\;\\\\<\\\\=\\\\>\\\\?\\\\@\\\\[\\\\\\\\\\\\]\\\\^_\\\\`\\\\{\\\\|\\\\}\\\\~]'\n",
    "    nuevo_texto = re.sub(regex , ' ', nuevo_texto)\n",
    "    # Eliminación de números\n",
    "    nuevo_texto = re.sub(\"\\d+\", ' ', nuevo_texto)\n",
    "    # Eliminación de espacios en blanco múltiples\n",
    "    nuevo_texto = re.sub(\"\\\\s+\", ' ', nuevo_texto)\n",
    "    # Tokenización por palabras individuales\n",
    "    nuevo_texto = nuevo_texto.split(sep = ' ')\n",
    "    # Eliminación de tokens con una longitud < 2\n",
    "    nuevo_texto = [token for token in nuevo_texto if len(token) > 1]\n",
    "    \n",
    "    return(nuevo_texto)\n",
    "\n",
    "\n",
    "stop_words = list(stopwords.words('english'))\n",
    "# Se añade la stopword: amp, ax, ex\n",
    "stop_words.extend((\"amp\", \"xa\", \"xe\"))"
   ]
  },
  {
   "cell_type": "code",
   "execution_count": null,
   "id": "bb33abef",
   "metadata": {},
   "outputs": [],
   "source": [
    "# Creación de la matriz tf-idf \n",
    "# ==============================================================================\n",
    "tfidf_vectorizador = TfidfVectorizer(\n",
    "                        tokenizer  = limpiar_tokenizar,\n",
    "                        min_df     = 3,\n",
    "                        stop_words = stop_words\n",
    "                    )\n",
    "tfidf_vectorizador.fit(X_train)"
   ]
  },
  {
   "cell_type": "markdown",
   "id": "7cc5d435",
   "metadata": {},
   "source": [
    "A la hora de transformar los documentos de test, hay que proyectarlos en la misma matriz obtenida previamente con los documentos de entrenamiento. Esto es importante ya que, si en los documentos de test hay algún término que no aparece en los de entrenamiento o viceversa, las dimensiones de cada matriz no coinciden."
   ]
  },
  {
   "cell_type": "code",
   "execution_count": null,
   "id": "022994af",
   "metadata": {},
   "outputs": [],
   "source": [
    "tfidf_train = tfidf_vectorizador.transform(X_train)\n",
    "tfidf_test  = tfidf_vectorizador.transform(X_test)"
   ]
  },
  {
   "cell_type": "markdown",
   "id": "d21699ea",
   "metadata": {},
   "source": [
    "Una vez que el objeto TfidfVectorizer ha sido entrenado, se puede acceder a los tokens creados con el método get_feature_names()."
   ]
  },
  {
   "cell_type": "code",
   "execution_count": null,
   "id": "22e55d42",
   "metadata": {},
   "outputs": [],
   "source": [
    "tfidf_train"
   ]
  },
  {
   "cell_type": "code",
   "execution_count": null,
   "id": "40b9902f",
   "metadata": {},
   "outputs": [],
   "source": [
    "print(f\" Número de tokens creados: {len(tfidf_vectorizador.get_feature_names())}\")\n",
    "print(tfidf_vectorizador.get_feature_names()[100:150])"
   ]
  },
  {
   "cell_type": "markdown",
   "id": "8b777b57",
   "metadata": {},
   "source": [
    "# Modelo SVM lineal\n",
    "\n",
    "Como modelo de predicción se emplea un SVM (Support Vector Machine).\n",
    "\n",
    "Un modelo de predicción SVM (Support Vector Machine) funciona separando diferentes clases de datos con un hiperplano. Imagina que tienes datos en un espacio multidimensional, y el SVM encuentra la mejor manera de dividir esos datos en dos grupos. Este hiperplano es seleccionado de manera que maximice la distancia entre los puntos de datos más cercanos de cada clase, llamados vectores de soporte. Una vez que se encuentra este hiperplano óptimo, se puede usar para predecir la clase de nuevos datos según en qué lado del hiperplano caigan. Es como dibujar una línea en un gráfico para separar dos grupos de puntos lo mejor posible pero en 3D.\n",
    "\n",
    "* modelo SVM https://keepcoding.io/blog/que-son-las-svm-o-support-vector-machines/\n",
    "* libreria: https://scikit-learn.org/stable/modules/generated/sklearn.svm.SVC.html"
   ]
  },
  {
   "cell_type": "code",
   "execution_count": null,
   "id": "5824b6f9",
   "metadata": {},
   "outputs": [],
   "source": [
    "# Entrenamiento del modelo SVM\n",
    "# ==============================================================================\n",
    "modelo_svm_lineal = svm.SVC(kernel= \"linear\", C = 1.0)\n",
    "modelo_svm_lineal.fit(X=tfidf_train, y= y_train)\n"
   ]
  },
  {
   "cell_type": "code",
   "execution_count": null,
   "id": "7f2e9d5b",
   "metadata": {},
   "outputs": [],
   "source": [
    "# Grid de hiperparámetros\n",
    "# ==============================================================================\n",
    "param_grid = {'C': np.logspace(-5, 3, 10)}\n",
    "'''\n",
    "logspace genera un arreglo de 10 números que se distribuyen logarítmicamente entre 10^(-5) y 10^3.\n",
    "\n",
    "El parámetro C es un hiperparámetro que controla la penalización por errores de clasificación\n",
    "En específico, el valor de C determina la importancia que se le da a la maximización\n",
    "del margen de separación entre las clases en comparación con la minimización de los\n",
    "errores de clasificación. \n",
    "Un valor alto de C indica que se da más importancia a la minimización\n",
    "de los errores de clasificación, \n",
    "mientras que un valor bajo de C indica que se da más importancia a la maximización\n",
    "del margen de separación.\n",
    "\n",
    "En resumen, el parámetro C controla el equilibrio entre la complejidad del modelo\n",
    "y su capacidad para generalizar a nuevos datos. \n",
    "Un valor de C demasiado alto puede resultar en un modelo sobreajustado (overfitting), \n",
    "mientras que un valor de C demasiado bajo puede resultar en un modelo subajustado\n",
    "(underfitting). Por lo tanto, es importante elegir un valor adecuado de C para obtener\n",
    "un buen rendimiento en la clasificación.\n",
    "\n",
    "En este caso, el valor de C se habia establecido en 1.0,\n",
    "lo que significa que se da igual importancia a la maximización del margen de separación\n",
    "y a la minimización de los errores de clasificación.\n",
    "\n",
    "'''\n",
    "\n",
    "# Búsqueda por validación cruzada\n",
    "# ==============================================================================\n",
    "grid = GridSearchCV(\n",
    "        estimator  = svm.SVC(kernel= \"linear\"),\n",
    "        param_grid = param_grid,\n",
    "        scoring    = 'accuracy',\n",
    "        n_jobs     = -1,\n",
    "        cv         = 5, \n",
    "        verbose    = 0,\n",
    "        return_train_score = True\n",
    "      )\n",
    "\n",
    "m = grid.fit(X = tfidf_train, y = y_train)\n",
    "\n",
    "\n",
    "'''\n",
    "# Resultados del grid\n",
    "# ==============================================================================\n",
    "resultados = pd.DataFrame(grid.cv_results_)\n",
    "resultados.filter(regex = '(param.*|mean_t|std_t)')\\\n",
    "    .drop(columns = 'params')\\\n",
    "    .sort_values('mean_test_score', ascending = False)\n",
    "\n",
    "'''\n",
    "print()"
   ]
  },
  {
   "cell_type": "code",
   "execution_count": null,
   "id": "f0b75db2",
   "metadata": {},
   "outputs": [],
   "source": [
    "# Mejor hiperparámetro por validación cruzada\n",
    "# ==============================================================================\n",
    "print(\"----------------------------------------\")\n",
    "print(\"Mejor hiperparámetro encontrados (cv)\")\n",
    "print(\"----------------------------------------\")\n",
    "print(grid.best_params_, \":\", grid.best_score_, grid.scoring)\n",
    "\n",
    "modelo_final = grid.best_estimator_"
   ]
  },
  {
   "cell_type": "code",
   "execution_count": null,
   "id": "6228678b",
   "metadata": {},
   "outputs": [],
   "source": [
    "# Error predicciones test\n",
    "# ==============================================================================\n",
    "predicciones_test = modelo_final.predict(X=tfidf_test)\n",
    "\n",
    "print(\"________________________________________\")\n",
    "print(\"Error de test\")\n",
    "print(\"________________________________________\")\n",
    "\n",
    "print(f\"Número de clasificaciones erróneas de un total de {tfidf_test.shape[0]} \" \\\n",
    "      f\"clasificaciones: {(y_test != predicciones_test).sum()}\"\n",
    ")\n",
    "print(f\"% de error: {100*(y_test != predicciones_test).mean()}\")\n",
    "\n",
    "print(\"\")\n",
    "print(\"________________________________________\")\n",
    "print(\"Matriz de confusión\")\n",
    "print(\"________________________________________\")\n",
    "\n",
    "'''\n",
    "pd.DataFrame(confusion_matrix(y_true = y_test, y_pred= predicciones_test),\n",
    "             columns= [\"Elon Musk\", \"Mayor Ed Lee\"],\n",
    "             index = [\"Elon Musk\", \"Mayor Ed Lee\"])\n",
    "'''\n",
    "pd.DataFrame(confusion_matrix(y_true = y_test, y_pred= predicciones_test),\n",
    "             columns= [\"Elon Musk\", \"Mayor Ed Lee\",'BillGates'],\n",
    "             index = [\"Elon Musk\", \"Mayor Ed Lee\",'BillGates'])"
   ]
  },
  {
   "cell_type": "markdown",
   "id": "64524fdc",
   "metadata": {},
   "source": [
    "https://scikit-learn.org/stable/modules/generated/sklearn.metrics.confusion_matrix.html\n",
    "\n",
    "Empleando un modelo de SVM lineal con hiperparámetro\n",
    " C=2.15 se consigue un test error del 7.76%.\n",
    "Se trata de un porcentaje de error bajo-medio, aún así,\n",
    "  explorando otros modelos como pueden ser SVM no lineales\n",
    "  o Random Forest podrían alcanzarse mejores resultados."
   ]
  },
  {
   "cell_type": "markdown",
   "id": "c52596fc",
   "metadata": {},
   "source": [
    "# Análisis de sentimientos\n",
    "\n",
    "\n",
    "Una forma de analizar el sentimiento de un de un texto es considerando su sentimiento como la suma de los sentimientos de cada una de las palabras que lo forman. Esta no es la única forma de abordar el análisis de sentimientos, pero consigue un buen equilibrio entre complejidad y resultados.\n",
    "\n",
    "Para llevar a cabo esta aproximación es necesario disponer de un diccionario en el que se asocie a cada palabra un sentimiento o nivel de sentimiento. A estos diccionarios también se les conoce como sentiment lexicon. Dos de los más utilizados son:\n",
    "\n",
    "* AFINN: en él, se asigna a cada palabra un valor entre -5 y 5, siendo -5 el máximo de negatividad y +5 el máximo de positividad. Se puede acceder al diccionario a través del repositorio https://github.com/fnielsen/afinn/tree/master/afinn/data.\n",
    "\n",
    "* Bing y Liu (http://www.cs.uic.edu/~liub/FBS/opinion-lexicon-English.rar), donde las palabras están clasificadas como positivas o negativas."
   ]
  },
  {
   "cell_type": "code",
   "execution_count": null,
   "id": "f1727919",
   "metadata": {},
   "outputs": [],
   "source": [
    "# Descarga lexicon sentimientos\n",
    "# ==============================================================================\n",
    "lexicon = pd.read_table(\n",
    "            'https://raw.githubusercontent.com/fnielsen/afinn/master/afinn/data/AFINN-en-165.txt',\n",
    "            names = ['termino', 'sentimiento']\n",
    "          )\n",
    "print(len(lexicon))\n",
    "lexicon.tail()"
   ]
  },
  {
   "cell_type": "markdown",
   "id": "4e64119c",
   "metadata": {},
   "source": [
    "# Sentimiento promedio de cada tweet\n",
    "\n",
    "\n",
    "Al disponer de los datos en formato tidy (una palabra por fila), mediante un inner merge se añade a cada palabra su sentimiento y se filtran automáticamente todas aquellas palabras para las que no hay información disponible."
   ]
  },
  {
   "cell_type": "code",
   "execution_count": null,
   "id": "af010af5",
   "metadata": {},
   "outputs": [],
   "source": [
    "tweets_tidy.head(20)"
   ]
  },
  {
   "cell_type": "code",
   "execution_count": null,
   "id": "47114ad1",
   "metadata": {},
   "outputs": [],
   "source": [
    "# Sentimiento promedio de cada tweet\n",
    "# ==============================================================================\n",
    "tweets_sentimientos = pd.merge(\n",
    "                            left     = tweets_tidy,\n",
    "                            right    = lexicon,\n",
    "                            left_on  = \"token\", \n",
    "                            right_on = \"termino\",\n",
    "                            how      = \"inner\"\n",
    "                      )\n",
    "\n",
    "tweets_sentimientos"
   ]
  },
  {
   "cell_type": "code",
   "execution_count": null,
   "id": "8f354775",
   "metadata": {},
   "outputs": [],
   "source": [
    "tweets_sentimientos = tweets_sentimientos.drop(columns = \"termino\")\n",
    "\n",
    "# Se suman los sentimientos de las palabras que forman cada tweet.\n",
    "tweets_sentimientos = tweets_sentimientos[[\"autor\",\"fecha\", \"id\", \"sentimiento\"]] \\\n",
    "                      .groupby([\"autor\", \"fecha\", \"id\"])\\\n",
    "                      .sum().reset_index()\n",
    "tweets_sentimientos.head()"
   ]
  },
  {
   "cell_type": "markdown",
   "id": "727ea6c2",
   "metadata": {},
   "source": [
    "## Tweets positivos, negativos y neutros\n",
    "Se calcula el porcentaje de tweets positivos, negativos y neutros para cada autor."
   ]
  },
  {
   "cell_type": "code",
   "execution_count": null,
   "id": "38991100",
   "metadata": {},
   "outputs": [],
   "source": [
    "def perfil_sentimientos(df):\n",
    "    print(autor)\n",
    "    print(\"=\" * 12)\n",
    "    print(f\"Positivos: {round(100 * np.mean(df.sentimiento > 0), 2)}\")\n",
    "    print(f\"Neutros  : {round(100 * np.mean(df.sentimiento == 0), 2)}\")\n",
    "    print(f\"Negativos: {round(100 * np.mean(df.sentimiento < 0), 2)}\")\n",
    "    print(\" \")\n",
    "\n",
    "for autor, df in tweets_sentimientos.groupby(\"autor\"):\n",
    "    perfil_sentimientos(df)"
   ]
  },
  {
   "cell_type": "markdown",
   "id": "48e76b10",
   "metadata": {},
   "source": [
    "Los tres autores tienen un perfil muy similar. La gran mayoría de tweets son de tipo positivo. Este patrón es común en redes sociales, donde se suele participar mostrando aspectos o actividades positivas. Los usuarios no tienden a mostrar las cosas malas de sus vidas."
   ]
  },
  {
   "cell_type": "markdown",
   "id": "14a4862c",
   "metadata": {},
   "source": [
    "# Evolución temporal\n",
    "\n",
    "\n",
    "A continuación, se estudia cómo varía el sentimiento promedio de los tweets agrupados por intervalos de un mes para cada uno de los usuarios."
   ]
  },
  {
   "cell_type": "code",
   "execution_count": null,
   "id": "0413a1a7",
   "metadata": {},
   "outputs": [],
   "source": [
    "fig, ax = plt.subplots(figsize=(7, 4)) \n",
    "\n",
    "for autor in tweets_sentimientos.autor.unique():\n",
    "    df = tweets_sentimientos[tweets_sentimientos.autor == autor].copy()\n",
    "    df = df.set_index(\"fecha\")\n",
    "    df = df[['sentimiento']].resample('1M').mean() # resample 1 month\n",
    "    ax.plot(df.index, df.sentimiento, label=autor)\n",
    "\n",
    "ax.set_title(\"Sentimiento promedio de los tweets por mes\")\n",
    "ax.legend();"
   ]
  },
  {
   "cell_type": "markdown",
   "id": "f7eb9dee",
   "metadata": {},
   "source": [
    "La distribución del sentimiento promedio de los tweets se mantiene aproximadamente constante para los 3 usuarios. Existen ciertas oscilaciones, pero prácticamente la totalidad de ellas dentro del rango de sentimiento positivo."
   ]
  }
 ],
 "metadata": {
  "kernelspec": {
   "display_name": "Python 3 (ipykernel)",
   "language": "python",
   "name": "python3"
  },
  "language_info": {
   "codemirror_mode": {
    "name": "ipython",
    "version": 3
   },
   "file_extension": ".py",
   "mimetype": "text/x-python",
   "name": "python",
   "nbconvert_exporter": "python",
   "pygments_lexer": "ipython3",
   "version": "3.12.3"
  }
 },
 "nbformat": 4,
 "nbformat_minor": 5
}
