{
 "cells": [
  {
   "cell_type": "code",
   "execution_count": 37,
   "metadata": {},
   "outputs": [],
   "source": [
    "#importar las librerias\n",
    "import pandas as pd\n",
    "import matplotlib.pyplot as plt"
   ]
  },
  {
   "cell_type": "code",
   "execution_count": 38,
   "metadata": {},
   "outputs": [],
   "source": [
    "CellReviews = pd.read_json('../data/Cell_Phones_and_Accessories_5.json', lines=True)\n",
    "CellReviews = pd.read_csv('../data/data_review.csv')"
   ]
  },
  {
   "cell_type": "code",
   "execution_count": 39,
   "metadata": {},
   "outputs": [
    {
     "data": {
      "text/html": [
       "<div>\n",
       "<style scoped>\n",
       "    .dataframe tbody tr th:only-of-type {\n",
       "        vertical-align: middle;\n",
       "    }\n",
       "\n",
       "    .dataframe tbody tr th {\n",
       "        vertical-align: top;\n",
       "    }\n",
       "\n",
       "    .dataframe thead th {\n",
       "        text-align: right;\n",
       "    }\n",
       "</style>\n",
       "<table border=\"1\" class=\"dataframe\">\n",
       "  <thead>\n",
       "    <tr style=\"text-align: right;\">\n",
       "      <th></th>\n",
       "      <th>rating</th>\n",
       "      <th>target</th>\n",
       "    </tr>\n",
       "  </thead>\n",
       "  <tbody>\n",
       "    <tr>\n",
       "      <th>count</th>\n",
       "      <td>100000.000000</td>\n",
       "      <td>93225.000000</td>\n",
       "    </tr>\n",
       "    <tr>\n",
       "      <th>mean</th>\n",
       "      <td>3.975310</td>\n",
       "      <td>0.785036</td>\n",
       "    </tr>\n",
       "    <tr>\n",
       "      <th>std</th>\n",
       "      <td>1.496717</td>\n",
       "      <td>0.410799</td>\n",
       "    </tr>\n",
       "    <tr>\n",
       "      <th>min</th>\n",
       "      <td>1.000000</td>\n",
       "      <td>0.000000</td>\n",
       "    </tr>\n",
       "    <tr>\n",
       "      <th>25%</th>\n",
       "      <td>3.000000</td>\n",
       "      <td>1.000000</td>\n",
       "    </tr>\n",
       "    <tr>\n",
       "      <th>50%</th>\n",
       "      <td>5.000000</td>\n",
       "      <td>1.000000</td>\n",
       "    </tr>\n",
       "    <tr>\n",
       "      <th>75%</th>\n",
       "      <td>5.000000</td>\n",
       "      <td>1.000000</td>\n",
       "    </tr>\n",
       "    <tr>\n",
       "      <th>max</th>\n",
       "      <td>5.000000</td>\n",
       "      <td>1.000000</td>\n",
       "    </tr>\n",
       "  </tbody>\n",
       "</table>\n",
       "</div>"
      ],
      "text/plain": [
       "              rating        target\n",
       "count  100000.000000  93225.000000\n",
       "mean        3.975310      0.785036\n",
       "std         1.496717      0.410799\n",
       "min         1.000000      0.000000\n",
       "25%         3.000000      1.000000\n",
       "50%         5.000000      1.000000\n",
       "75%         5.000000      1.000000\n",
       "max         5.000000      1.000000"
      ]
     },
     "execution_count": 39,
     "metadata": {},
     "output_type": "execute_result"
    }
   ],
   "source": [
    "#acercamiento a los datos numericos\n",
    "CellReviews.describe()"
   ]
  },
  {
   "cell_type": "code",
   "execution_count": 40,
   "metadata": {},
   "outputs": [
    {
     "data": {
      "text/html": [
       "<div>\n",
       "<style scoped>\n",
       "    .dataframe tbody tr th:only-of-type {\n",
       "        vertical-align: middle;\n",
       "    }\n",
       "\n",
       "    .dataframe tbody tr th {\n",
       "        vertical-align: top;\n",
       "    }\n",
       "\n",
       "    .dataframe thead th {\n",
       "        text-align: right;\n",
       "    }\n",
       "</style>\n",
       "<table border=\"1\" class=\"dataframe\">\n",
       "  <thead>\n",
       "    <tr style=\"text-align: right;\">\n",
       "      <th></th>\n",
       "      <th>rating</th>\n",
       "      <th>title</th>\n",
       "      <th>review</th>\n",
       "      <th>target</th>\n",
       "    </tr>\n",
       "  </thead>\n",
       "  <tbody>\n",
       "    <tr>\n",
       "      <th>0</th>\n",
       "      <td>5</td>\n",
       "      <td>.............Am I in Midgard anymore ?</td>\n",
       "      <td>I was so disappointed to find she has not writ...</td>\n",
       "      <td>1.0</td>\n",
       "    </tr>\n",
       "    <tr>\n",
       "      <th>1</th>\n",
       "      <td>1</td>\n",
       "      <td>Zip wax new formula is just horrible.</td>\n",
       "      <td>I've been using zip wax for many years. It was...</td>\n",
       "      <td>0.0</td>\n",
       "    </tr>\n",
       "    <tr>\n",
       "      <th>2</th>\n",
       "      <td>5</td>\n",
       "      <td>Apatow's Depth Triumphs</td>\n",
       "      <td>I am a stand-up fanatic. I enjoy the alternati...</td>\n",
       "      <td>1.0</td>\n",
       "    </tr>\n",
       "    <tr>\n",
       "      <th>3</th>\n",
       "      <td>1</td>\n",
       "      <td>Dream of C.</td>\n",
       "      <td>It is to bad such talented illustrations are i...</td>\n",
       "      <td>0.0</td>\n",
       "    </tr>\n",
       "    <tr>\n",
       "      <th>4</th>\n",
       "      <td>1</td>\n",
       "      <td>it doesnt suck.</td>\n",
       "      <td>this product doesnt vaccum out the air I was d...</td>\n",
       "      <td>0.0</td>\n",
       "    </tr>\n",
       "  </tbody>\n",
       "</table>\n",
       "</div>"
      ],
      "text/plain": [
       "   rating                                   title  \\\n",
       "0       5  .............Am I in Midgard anymore ?   \n",
       "1       1   Zip wax new formula is just horrible.   \n",
       "2       5                 Apatow's Depth Triumphs   \n",
       "3       1                             Dream of C.   \n",
       "4       1                         it doesnt suck.   \n",
       "\n",
       "                                              review  target  \n",
       "0  I was so disappointed to find she has not writ...     1.0  \n",
       "1  I've been using zip wax for many years. It was...     0.0  \n",
       "2  I am a stand-up fanatic. I enjoy the alternati...     1.0  \n",
       "3  It is to bad such talented illustrations are i...     0.0  \n",
       "4  this product doesnt vaccum out the air I was d...     0.0  "
      ]
     },
     "execution_count": 40,
     "metadata": {},
     "output_type": "execute_result"
    }
   ],
   "source": [
    "CellReviews.head()"
   ]
  },
  {
   "cell_type": "code",
   "execution_count": 41,
   "metadata": {},
   "outputs": [
    {
     "data": {
      "text/plain": [
       "rating      int64\n",
       "title      object\n",
       "review     object\n",
       "target    float64\n",
       "dtype: object"
      ]
     },
     "execution_count": 41,
     "metadata": {},
     "output_type": "execute_result"
    }
   ],
   "source": [
    "#tipos de datos de los conjuntos de nuestro dataframe\n",
    "CellReviews.dtypes"
   ]
  },
  {
   "cell_type": "markdown",
   "metadata": {},
   "source": [
    "## ZONA DE TRABAJO FORZOZOS\n"
   ]
  },
  {
   "cell_type": "code",
   "execution_count": null,
   "metadata": {},
   "outputs": [],
   "source": [
    "def deleteRecords(df, col, col_or_row):\n",
    "    df.drop([col], axis=col_or_row, inplace=True)\n",
    "    \n",
    "\n",
    "\n",
    "def process_null_values(data: pd.DataFrame) ->pd.Series: #tipamos la funcion hermano\n",
    "    data_null_values = data.isnull().sum()\n",
    "    missing_percentage = (data_null_values / len(data)) * 100  \n",
    "    \n",
    "    missing_data = pd.DataFrame({\n",
    "    \t'Total': data_null_values,\n",
    "    \t'Porcentaje': missing_percentage\n",
    "\t})\n",
    "\n",
    "    # Filtrando las columnas con valores faltantes\n",
    "    columns_with_missing = missing_data[missing_percentage > 0]\n",
    "    listavalores =[]\n",
    "    if not columns_with_missing.empty:  # empty nos devuelve True si la serie está vacia\n",
    "        missingDict = columns_with_missing.to_dict()\n",
    "        for key, value in missingDict.items():\n",
    "            print(key, 'de registros:')\n",
    "            for subkey, subValues in value.items():\n",
    "                print('la columna',subkey,'tiene un',key,'de:',subValues, 'valores vacios')\n",
    "                if subkey not in listavalores: #para eviastr duplicados jeje\n",
    "                    listavalores.append(subkey)\n",
    "            print('----'*20)\n",
    "        print('Si las columnas son irrelevantes, podemos hacer algo con sus datos, que te gustaria eliminarlos o los conservamos?')\n",
    "        for col in listavalores:\n",
    "            vardelete = input(f\"Te gustaría eliminar la columna {col}? Digita 'S' para confirmar: \")\n",
    "            if vardelete == 'S':\n",
    "                print('hola')\n",
    "                deleteRecords(data, col, 0)\n",
    "            else:\n",
    "                vardelete = input(f\"Te gustaría eliminar la columna {col}? Digita 'S' para confirmar: \")  \n",
    "    else:\n",
    "        print('No hay columnas con valores faltantes')\n",
    "        "
   ]
  },
  {
   "cell_type": "code",
   "execution_count": 65,
   "metadata": {},
   "outputs": [
    {
     "name": "stdout",
     "output_type": "stream",
     "text": [
      "Total de registros:\n",
      "la columna title tiene un Total de: 4 valores vacios\n",
      "la columna target tiene un Total de: 6775 valores vacios\n",
      "--------------------------------------------------------------------------------\n",
      "Porcentaje de registros:\n",
      "la columna title tiene un Porcentaje de: 0.004 valores vacios\n",
      "la columna target tiene un Porcentaje de: 6.775 valores vacios\n",
      "--------------------------------------------------------------------------------\n",
      "Si las columnas son irrelevantes, podemos hacer algo con sus datos, que te gustaria eliminarlos o los conservamos?\n"
     ]
    }
   ],
   "source": [
    "process_null_values(CellReviews)"
   ]
  }
 ],
 "metadata": {
  "kernelspec": {
   "display_name": "Python 3",
   "language": "python",
   "name": "python3"
  },
  "language_info": {
   "codemirror_mode": {
    "name": "ipython",
    "version": 3
   },
   "file_extension": ".py",
   "mimetype": "text/x-python",
   "name": "python",
   "nbconvert_exporter": "python",
   "pygments_lexer": "ipython3",
   "version": "3.12.5"
  }
 },
 "nbformat": 4,
 "nbformat_minor": 2
}
