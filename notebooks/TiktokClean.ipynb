{
 "cells": [
  {
   "cell_type": "markdown",
   "metadata": {},
   "source": [
    "LIMPIAR DATA TIKTOK"
   ]
  },
  {
   "cell_type": "code",
   "execution_count": 1,
   "metadata": {},
   "outputs": [],
   "source": [
    "import pandas as pd\n",
    "import re\n",
    "import emoji\n",
    "import nltk\n",
    "from nltk.tokenize import word_tokenize\n",
    "from nltk.stem import WordNetLemmatizer\n",
    "from textblob import TextBlob\n",
    "\n",
    "from nltk.corpus import wordnet\n",
    "lemmatizer = WordNetLemmatizer()\n",
    "\n",
    "from nltk.corpus import wordnet, stopwords"
   ]
  },
  {
   "cell_type": "code",
   "execution_count": 2,
   "metadata": {},
   "outputs": [],
   "source": [
    "#Carga de la data\n",
    "tiktok_data = pd.read_csv('../data/tiktok_reviews.csv', low_memory=False)"
   ]
  },
  {
   "cell_type": "code",
   "execution_count": 3,
   "metadata": {},
   "outputs": [
    {
     "data": {
      "text/html": [
       "<div>\n",
       "<style scoped>\n",
       "    .dataframe tbody tr th:only-of-type {\n",
       "        vertical-align: middle;\n",
       "    }\n",
       "\n",
       "    .dataframe tbody tr th {\n",
       "        vertical-align: top;\n",
       "    }\n",
       "\n",
       "    .dataframe thead th {\n",
       "        text-align: right;\n",
       "    }\n",
       "</style>\n",
       "<table border=\"1\" class=\"dataframe\">\n",
       "  <thead>\n",
       "    <tr style=\"text-align: right;\">\n",
       "      <th></th>\n",
       "      <th>score</th>\n",
       "      <th>thumbsUpCount</th>\n",
       "    </tr>\n",
       "  </thead>\n",
       "  <tbody>\n",
       "    <tr>\n",
       "      <th>count</th>\n",
       "      <td>460287.000000</td>\n",
       "      <td>460287.000000</td>\n",
       "    </tr>\n",
       "    <tr>\n",
       "      <th>mean</th>\n",
       "      <td>4.234919</td>\n",
       "      <td>3.210601</td>\n",
       "    </tr>\n",
       "    <tr>\n",
       "      <th>std</th>\n",
       "      <td>1.430718</td>\n",
       "      <td>183.506791</td>\n",
       "    </tr>\n",
       "    <tr>\n",
       "      <th>min</th>\n",
       "      <td>1.000000</td>\n",
       "      <td>0.000000</td>\n",
       "    </tr>\n",
       "    <tr>\n",
       "      <th>25%</th>\n",
       "      <td>4.000000</td>\n",
       "      <td>0.000000</td>\n",
       "    </tr>\n",
       "    <tr>\n",
       "      <th>50%</th>\n",
       "      <td>5.000000</td>\n",
       "      <td>0.000000</td>\n",
       "    </tr>\n",
       "    <tr>\n",
       "      <th>75%</th>\n",
       "      <td>5.000000</td>\n",
       "      <td>0.000000</td>\n",
       "    </tr>\n",
       "    <tr>\n",
       "      <th>max</th>\n",
       "      <td>5.000000</td>\n",
       "      <td>40311.000000</td>\n",
       "    </tr>\n",
       "  </tbody>\n",
       "</table>\n",
       "</div>"
      ],
      "text/plain": [
       "               score  thumbsUpCount\n",
       "count  460287.000000  460287.000000\n",
       "mean        4.234919       3.210601\n",
       "std         1.430718     183.506791\n",
       "min         1.000000       0.000000\n",
       "25%         4.000000       0.000000\n",
       "50%         5.000000       0.000000\n",
       "75%         5.000000       0.000000\n",
       "max         5.000000   40311.000000"
      ]
     },
     "execution_count": 3,
     "metadata": {},
     "output_type": "execute_result"
    }
   ],
   "source": [
    "tiktok_data.describe()"
   ]
  },
  {
   "cell_type": "code",
   "execution_count": 4,
   "metadata": {},
   "outputs": [
    {
     "data": {
      "text/plain": [
       "reviewId                object\n",
       "userName                object\n",
       "userImage               object\n",
       "content                 object\n",
       "score                    int64\n",
       "thumbsUpCount            int64\n",
       "reviewCreatedVersion    object\n",
       "at                      object\n",
       "replyContent            object\n",
       "repliedAt               object\n",
       "dtype: object"
      ]
     },
     "execution_count": 4,
     "metadata": {},
     "output_type": "execute_result"
    }
   ],
   "source": [
    "#Tipos de datos\n",
    "tiktok_data.dtypes"
   ]
  },
  {
   "cell_type": "code",
   "execution_count": 5,
   "metadata": {},
   "outputs": [
    {
     "data": {
      "text/html": [
       "<div>\n",
       "<style scoped>\n",
       "    .dataframe tbody tr th:only-of-type {\n",
       "        vertical-align: middle;\n",
       "    }\n",
       "\n",
       "    .dataframe tbody tr th {\n",
       "        vertical-align: top;\n",
       "    }\n",
       "\n",
       "    .dataframe thead th {\n",
       "        text-align: right;\n",
       "    }\n",
       "</style>\n",
       "<table border=\"1\" class=\"dataframe\">\n",
       "  <thead>\n",
       "    <tr style=\"text-align: right;\">\n",
       "      <th></th>\n",
       "      <th>reviewId</th>\n",
       "      <th>userName</th>\n",
       "      <th>userImage</th>\n",
       "      <th>content</th>\n",
       "      <th>score</th>\n",
       "      <th>thumbsUpCount</th>\n",
       "      <th>reviewCreatedVersion</th>\n",
       "      <th>at</th>\n",
       "      <th>replyContent</th>\n",
       "      <th>repliedAt</th>\n",
       "    </tr>\n",
       "  </thead>\n",
       "  <tbody>\n",
       "    <tr>\n",
       "      <th>0</th>\n",
       "      <td>68ccaec8-1415-4301-a85e-3004679a3a83</td>\n",
       "      <td>Cassie Moore</td>\n",
       "      <td>https://play-lh.googleusercontent.com/a/ALm5wu...</td>\n",
       "      <td>No words</td>\n",
       "      <td>5</td>\n",
       "      <td>0</td>\n",
       "      <td>27.1.3</td>\n",
       "      <td>2022-11-29 21:55:37</td>\n",
       "      <td>NaN</td>\n",
       "      <td>NaN</td>\n",
       "    </tr>\n",
       "    <tr>\n",
       "      <th>1</th>\n",
       "      <td>d84cbfd3-6aa3-485c-aaf9-c5dca27dc966</td>\n",
       "      <td>Kaleb Plummer</td>\n",
       "      <td>https://play-lh.googleusercontent.com/a-/ACNPE...</td>\n",
       "      <td>Great fun app so far!</td>\n",
       "      <td>5</td>\n",
       "      <td>0</td>\n",
       "      <td>NaN</td>\n",
       "      <td>2022-11-29 21:55:04</td>\n",
       "      <td>NaN</td>\n",
       "      <td>NaN</td>\n",
       "    </tr>\n",
       "    <tr>\n",
       "      <th>2</th>\n",
       "      <td>96618aa1-31e5-4259-8649-89b75d962f00</td>\n",
       "      <td>Rylee Maher</td>\n",
       "      <td>https://play-lh.googleusercontent.com/a/ALm5wu...</td>\n",
       "      <td>The app would get a higher rating but I litera...</td>\n",
       "      <td>1</td>\n",
       "      <td>0</td>\n",
       "      <td>27.1.3</td>\n",
       "      <td>2022-11-29 21:54:48</td>\n",
       "      <td>NaN</td>\n",
       "      <td>NaN</td>\n",
       "    </tr>\n",
       "    <tr>\n",
       "      <th>3</th>\n",
       "      <td>078c0bda-598b-474e-a04e-d7cb3e6f6301</td>\n",
       "      <td>Kittykatelyn Romilly</td>\n",
       "      <td>https://play-lh.googleusercontent.com/a-/ACNPE...</td>\n",
       "      <td>I WISH I COULD GIVE THIS A 100 PERCENT RATING ...</td>\n",
       "      <td>5</td>\n",
       "      <td>0</td>\n",
       "      <td>NaN</td>\n",
       "      <td>2022-11-29 21:54:35</td>\n",
       "      <td>NaN</td>\n",
       "      <td>NaN</td>\n",
       "    </tr>\n",
       "    <tr>\n",
       "      <th>4</th>\n",
       "      <td>8e68c5cd-b12a-4206-a8da-6bfdbff44ae3</td>\n",
       "      <td>Loveness Malenga</td>\n",
       "      <td>https://play-lh.googleusercontent.com/a-/ACNPE...</td>\n",
       "      <td>Pictures and record</td>\n",
       "      <td>5</td>\n",
       "      <td>0</td>\n",
       "      <td>NaN</td>\n",
       "      <td>2022-11-29 21:54:21</td>\n",
       "      <td>NaN</td>\n",
       "      <td>NaN</td>\n",
       "    </tr>\n",
       "  </tbody>\n",
       "</table>\n",
       "</div>"
      ],
      "text/plain": [
       "                               reviewId              userName  \\\n",
       "0  68ccaec8-1415-4301-a85e-3004679a3a83          Cassie Moore   \n",
       "1  d84cbfd3-6aa3-485c-aaf9-c5dca27dc966         Kaleb Plummer   \n",
       "2  96618aa1-31e5-4259-8649-89b75d962f00           Rylee Maher   \n",
       "3  078c0bda-598b-474e-a04e-d7cb3e6f6301  Kittykatelyn Romilly   \n",
       "4  8e68c5cd-b12a-4206-a8da-6bfdbff44ae3      Loveness Malenga   \n",
       "\n",
       "                                           userImage  \\\n",
       "0  https://play-lh.googleusercontent.com/a/ALm5wu...   \n",
       "1  https://play-lh.googleusercontent.com/a-/ACNPE...   \n",
       "2  https://play-lh.googleusercontent.com/a/ALm5wu...   \n",
       "3  https://play-lh.googleusercontent.com/a-/ACNPE...   \n",
       "4  https://play-lh.googleusercontent.com/a-/ACNPE...   \n",
       "\n",
       "                                             content  score  thumbsUpCount  \\\n",
       "0                                           No words      5              0   \n",
       "1                              Great fun app so far!      5              0   \n",
       "2  The app would get a higher rating but I litera...      1              0   \n",
       "3  I WISH I COULD GIVE THIS A 100 PERCENT RATING ...      5              0   \n",
       "4                                Pictures and record      5              0   \n",
       "\n",
       "  reviewCreatedVersion                   at replyContent repliedAt  \n",
       "0               27.1.3  2022-11-29 21:55:37          NaN       NaN  \n",
       "1                  NaN  2022-11-29 21:55:04          NaN       NaN  \n",
       "2               27.1.3  2022-11-29 21:54:48          NaN       NaN  \n",
       "3                  NaN  2022-11-29 21:54:35          NaN       NaN  \n",
       "4                  NaN  2022-11-29 21:54:21          NaN       NaN  "
      ]
     },
     "execution_count": 5,
     "metadata": {},
     "output_type": "execute_result"
    }
   ],
   "source": [
    "# Primeras filas \n",
    "tiktok_data.head()"
   ]
  },
  {
   "cell_type": "code",
   "execution_count": 6,
   "metadata": {},
   "outputs": [
    {
     "name": "stdout",
     "output_type": "stream",
     "text": [
      "<class 'pandas.core.frame.DataFrame'>\n",
      "RangeIndex: 460287 entries, 0 to 460286\n",
      "Data columns (total 10 columns):\n",
      " #   Column                Non-Null Count   Dtype \n",
      "---  ------                --------------   ----- \n",
      " 0   reviewId              460287 non-null  object\n",
      " 1   userName              460287 non-null  object\n",
      " 2   userImage             460287 non-null  object\n",
      " 3   content               460256 non-null  object\n",
      " 4   score                 460287 non-null  int64 \n",
      " 5   thumbsUpCount         460287 non-null  int64 \n",
      " 6   reviewCreatedVersion  333953 non-null  object\n",
      " 7   at                    460287 non-null  object\n",
      " 8   replyContent          260 non-null     object\n",
      " 9   repliedAt             260 non-null     object\n",
      "dtypes: int64(2), object(8)\n",
      "memory usage: 35.1+ MB\n"
     ]
    }
   ],
   "source": [
    "# Ver información de la Data\n",
    "tiktok_data.info()"
   ]
  },
  {
   "cell_type": "code",
   "execution_count": 7,
   "metadata": {},
   "outputs": [
    {
     "data": {
      "text/plain": [
       "reviewId                     0\n",
       "userName                     0\n",
       "userImage                    0\n",
       "content                     31\n",
       "score                        0\n",
       "thumbsUpCount                0\n",
       "reviewCreatedVersion    126334\n",
       "at                           0\n",
       "replyContent            460027\n",
       "repliedAt               460027\n",
       "dtype: int64"
      ]
     },
     "execution_count": 7,
     "metadata": {},
     "output_type": "execute_result"
    }
   ],
   "source": [
    "# Verificar valores nulos\n",
    "tiktok_data.isnull().sum()"
   ]
  },
  {
   "cell_type": "code",
   "execution_count": 8,
   "metadata": {},
   "outputs": [
    {
     "data": {
      "text/plain": [
       "np.int64(0)"
      ]
     },
     "execution_count": 8,
     "metadata": {},
     "output_type": "execute_result"
    }
   ],
   "source": [
    "# Verificar si hay valores duplicados\n",
    "tiktok_data.duplicated().sum()"
   ]
  },
  {
   "cell_type": "code",
   "execution_count": 9,
   "metadata": {},
   "outputs": [],
   "source": [
    "#Eliminando algunas columnas sin mucha relevancia para el analisis\n",
    "tiktok_data.drop(['userName'], axis=1, inplace=True)\n",
    "tiktok_data.drop(['userImage'],axis=1, inplace=True)\n",
    "tiktok_data.drop(['thumbsUpCount'], axis=1, inplace=True)\n",
    "tiktok_data.drop(['reviewCreatedVersion'], axis=1, inplace=True)\n",
    "tiktok_data.drop(['at'],axis=1, inplace=True)\n",
    "tiktok_data.drop(['replyContent'], axis=1, inplace=True)\n",
    "tiktok_data.drop(['repliedAt'], axis=1, inplace=True)"
   ]
  },
  {
   "cell_type": "code",
   "execution_count": 10,
   "metadata": {},
   "outputs": [
    {
     "data": {
      "text/plain": [
       "Index(['reviewId', 'content', 'score'], dtype='object')"
      ]
     },
     "execution_count": 10,
     "metadata": {},
     "output_type": "execute_result"
    }
   ],
   "source": [
    "tiktok_data.columns"
   ]
  },
  {
   "cell_type": "code",
   "execution_count": 11,
   "metadata": {},
   "outputs": [
    {
     "data": {
      "text/plain": [
       "reviewId     0\n",
       "content     31\n",
       "score        0\n",
       "dtype: int64"
      ]
     },
     "execution_count": 11,
     "metadata": {},
     "output_type": "execute_result"
    }
   ],
   "source": [
    "# Verificar valores nulos\n",
    "tiktok_data.isnull().sum()"
   ]
  },
  {
   "cell_type": "code",
   "execution_count": 14,
   "metadata": {},
   "outputs": [],
   "source": [
    "# Eliminar valores nulos en content\n",
    "tiktok_data = tiktok_data.dropna(subset=[\"content\"])"
   ]
  },
  {
   "cell_type": "code",
   "execution_count": 15,
   "metadata": {},
   "outputs": [
    {
     "data": {
      "text/html": [
       "<div>\n",
       "<style scoped>\n",
       "    .dataframe tbody tr th:only-of-type {\n",
       "        vertical-align: middle;\n",
       "    }\n",
       "\n",
       "    .dataframe tbody tr th {\n",
       "        vertical-align: top;\n",
       "    }\n",
       "\n",
       "    .dataframe thead th {\n",
       "        text-align: right;\n",
       "    }\n",
       "</style>\n",
       "<table border=\"1\" class=\"dataframe\">\n",
       "  <thead>\n",
       "    <tr style=\"text-align: right;\">\n",
       "      <th></th>\n",
       "      <th>score</th>\n",
       "    </tr>\n",
       "  </thead>\n",
       "  <tbody>\n",
       "    <tr>\n",
       "      <th>count</th>\n",
       "      <td>460256.000000</td>\n",
       "    </tr>\n",
       "    <tr>\n",
       "      <th>mean</th>\n",
       "      <td>4.234919</td>\n",
       "    </tr>\n",
       "    <tr>\n",
       "      <th>std</th>\n",
       "      <td>1.430724</td>\n",
       "    </tr>\n",
       "    <tr>\n",
       "      <th>min</th>\n",
       "      <td>1.000000</td>\n",
       "    </tr>\n",
       "    <tr>\n",
       "      <th>25%</th>\n",
       "      <td>4.000000</td>\n",
       "    </tr>\n",
       "    <tr>\n",
       "      <th>50%</th>\n",
       "      <td>5.000000</td>\n",
       "    </tr>\n",
       "    <tr>\n",
       "      <th>75%</th>\n",
       "      <td>5.000000</td>\n",
       "    </tr>\n",
       "    <tr>\n",
       "      <th>max</th>\n",
       "      <td>5.000000</td>\n",
       "    </tr>\n",
       "  </tbody>\n",
       "</table>\n",
       "</div>"
      ],
      "text/plain": [
       "               score\n",
       "count  460256.000000\n",
       "mean        4.234919\n",
       "std         1.430724\n",
       "min         1.000000\n",
       "25%         4.000000\n",
       "50%         5.000000\n",
       "75%         5.000000\n",
       "max         5.000000"
      ]
     },
     "execution_count": 15,
     "metadata": {},
     "output_type": "execute_result"
    }
   ],
   "source": [
    "tiktok_data.describe()"
   ]
  },
  {
   "cell_type": "code",
   "execution_count": 20,
   "metadata": {},
   "outputs": [
    {
     "data": {
      "text/html": [
       "<div>\n",
       "<style scoped>\n",
       "    .dataframe tbody tr th:only-of-type {\n",
       "        vertical-align: middle;\n",
       "    }\n",
       "\n",
       "    .dataframe tbody tr th {\n",
       "        vertical-align: top;\n",
       "    }\n",
       "\n",
       "    .dataframe thead th {\n",
       "        text-align: right;\n",
       "    }\n",
       "</style>\n",
       "<table border=\"1\" class=\"dataframe\">\n",
       "  <thead>\n",
       "    <tr style=\"text-align: right;\">\n",
       "      <th></th>\n",
       "      <th>score</th>\n",
       "    </tr>\n",
       "  </thead>\n",
       "  <tbody>\n",
       "    <tr>\n",
       "      <th>count</th>\n",
       "      <td>112592.000000</td>\n",
       "    </tr>\n",
       "    <tr>\n",
       "      <th>mean</th>\n",
       "      <td>2.029372</td>\n",
       "    </tr>\n",
       "    <tr>\n",
       "      <th>std</th>\n",
       "      <td>1.333767</td>\n",
       "    </tr>\n",
       "    <tr>\n",
       "      <th>min</th>\n",
       "      <td>1.000000</td>\n",
       "    </tr>\n",
       "    <tr>\n",
       "      <th>25%</th>\n",
       "      <td>1.000000</td>\n",
       "    </tr>\n",
       "    <tr>\n",
       "      <th>50%</th>\n",
       "      <td>1.000000</td>\n",
       "    </tr>\n",
       "    <tr>\n",
       "      <th>75%</th>\n",
       "      <td>3.000000</td>\n",
       "    </tr>\n",
       "    <tr>\n",
       "      <th>max</th>\n",
       "      <td>5.000000</td>\n",
       "    </tr>\n",
       "  </tbody>\n",
       "</table>\n",
       "</div>"
      ],
      "text/plain": [
       "               score\n",
       "count  112592.000000\n",
       "mean        2.029372\n",
       "std         1.333767\n",
       "min         1.000000\n",
       "25%         1.000000\n",
       "50%         1.000000\n",
       "75%         3.000000\n",
       "max         5.000000"
      ]
     },
     "execution_count": 20,
     "metadata": {},
     "output_type": "execute_result"
    }
   ],
   "source": [
    "#antes de pasar a hacer la lematizacion hare una eliminacion de muchos datos positivos que hay(no hay de otra)\n",
    "#eliminar muchos registros para balancear la data\n",
    "condition = tiktok_data['score'] == 4\n",
    "num_to_remove = 10000\n",
    "rows_to_remove = tiktok_data[condition].head(num_to_remove)\n",
    "\n",
    "# Eliminar esas filas del DataFrame original\n",
    "tiktok_data = tiktok_data.drop(rows_to_remove.index)\n",
    "\n",
    "tiktok_data.describe()"
   ]
  },
  {
   "cell_type": "code",
   "execution_count": 21,
   "metadata": {},
   "outputs": [
    {
     "data": {
      "text/plain": [
       "score\n",
       "1    61925\n",
       "2    13179\n",
       "3    18616\n",
       "4    10000\n",
       "5     8872\n",
       "dtype: int64"
      ]
     },
     "execution_count": 21,
     "metadata": {},
     "output_type": "execute_result"
    }
   ],
   "source": [
    "conteo_sentimientos = tiktok_data.groupby('score').size()\n",
    "conteo_sentimientos"
   ]
  },
  {
   "cell_type": "code",
   "execution_count": 22,
   "metadata": {},
   "outputs": [],
   "source": [
    "# Convertir emojis a texto\n",
    "def emojiText(texto):\n",
    "    return emoji.demojize(texto, delimiters=(\" \", \" \")).replace(\"_\", \" \")\n",
    "\n",
    "tiktok_data[\"content\"] = tiktok_data[\"content\"].apply(emojiText)"
   ]
  },
  {
   "cell_type": "code",
   "execution_count": 23,
   "metadata": {},
   "outputs": [],
   "source": [
    "#funcion de lematizacion y tokenizacion\n",
    "lemmatizer = WordNetLemmatizer()\n",
    "# Obtener stopwords en inglés\n",
    "stop_words = set(stopwords.words('english'))\n",
    "\n",
    "customs_stop_wards = stop_words - {\"not\", \"no\", \"never\", \"ever\"}#dejamos habilitadas estas palabras\n",
    "\n",
    "def tokenice_and_lemati(text):\n",
    "    tokens = word_tokenize(text.lower())#convertimos todo a minusc y luego lo tokenizamos jijijij\n",
    "    filter_tokens = [token for token in tokens if token not in customs_stop_wards]\n",
    "    lematized_tokens = [lemmatizer.lemmatize(token, pos='v') for token in filter_tokens]\n",
    "    return ' '.join(lematized_tokens)"
   ]
  },
  {
   "cell_type": "code",
   "execution_count": 24,
   "metadata": {},
   "outputs": [],
   "source": [
    "#plematizar\n",
    "tiktok_data['processed_text'] = tiktok_data['content'].apply(tokenice_and_lemati)"
   ]
  },
  {
   "cell_type": "code",
   "execution_count": 25,
   "metadata": {},
   "outputs": [
    {
     "data": {
      "text/html": [
       "<div>\n",
       "<style scoped>\n",
       "    .dataframe tbody tr th:only-of-type {\n",
       "        vertical-align: middle;\n",
       "    }\n",
       "\n",
       "    .dataframe tbody tr th {\n",
       "        vertical-align: top;\n",
       "    }\n",
       "\n",
       "    .dataframe thead th {\n",
       "        text-align: right;\n",
       "    }\n",
       "</style>\n",
       "<table border=\"1\" class=\"dataframe\">\n",
       "  <thead>\n",
       "    <tr style=\"text-align: right;\">\n",
       "      <th></th>\n",
       "      <th>reviewId</th>\n",
       "      <th>content</th>\n",
       "      <th>score</th>\n",
       "      <th>processed_text</th>\n",
       "    </tr>\n",
       "  </thead>\n",
       "  <tbody>\n",
       "    <tr>\n",
       "      <th>2</th>\n",
       "      <td>96618aa1-31e5-4259-8649-89b75d962f00</td>\n",
       "      <td>The app would get a higher rating but I litera...</td>\n",
       "      <td>1</td>\n",
       "      <td>app would get higher rat literally ca n't sign...</td>\n",
       "    </tr>\n",
       "    <tr>\n",
       "      <th>8</th>\n",
       "      <td>0e4af7cc-53d9-4b81-b608-933af34dfae1</td>\n",
       "      <td>Kwai pelo menos da dinheiro</td>\n",
       "      <td>1</td>\n",
       "      <td>kwai pelo menos da dinheiro</td>\n",
       "    </tr>\n",
       "    <tr>\n",
       "      <th>9</th>\n",
       "      <td>25c6b61c-40ee-4361-9f01-dc25036bf076</td>\n",
       "      <td>Post to view is such a step backwards for the ...</td>\n",
       "      <td>1</td>\n",
       "      <td>post view step backwards platform -- punish ca...</td>\n",
       "    </tr>\n",
       "    <tr>\n",
       "      <th>10</th>\n",
       "      <td>f97768fe-323f-4422-9a60-e76781673ea0</td>\n",
       "      <td>I got banned for literally no reason. You guys...</td>\n",
       "      <td>1</td>\n",
       "      <td>get ban literally no reason . guy need stop ba...</td>\n",
       "    </tr>\n",
       "    <tr>\n",
       "      <th>21</th>\n",
       "      <td>66b4e691-a878-460b-8d62-239f756ec592</td>\n",
       "      <td>my app won't stop crashing its horrible I'm ma...</td>\n",
       "      <td>1</td>\n",
       "      <td>app wo n't stop crash horrible 'm make video u...</td>\n",
       "    </tr>\n",
       "  </tbody>\n",
       "</table>\n",
       "</div>"
      ],
      "text/plain": [
       "                                reviewId  \\\n",
       "2   96618aa1-31e5-4259-8649-89b75d962f00   \n",
       "8   0e4af7cc-53d9-4b81-b608-933af34dfae1   \n",
       "9   25c6b61c-40ee-4361-9f01-dc25036bf076   \n",
       "10  f97768fe-323f-4422-9a60-e76781673ea0   \n",
       "21  66b4e691-a878-460b-8d62-239f756ec592   \n",
       "\n",
       "                                              content  score  \\\n",
       "2   The app would get a higher rating but I litera...      1   \n",
       "8                         Kwai pelo menos da dinheiro      1   \n",
       "9   Post to view is such a step backwards for the ...      1   \n",
       "10  I got banned for literally no reason. You guys...      1   \n",
       "21  my app won't stop crashing its horrible I'm ma...      1   \n",
       "\n",
       "                                       processed_text  \n",
       "2   app would get higher rat literally ca n't sign...  \n",
       "8                         kwai pelo menos da dinheiro  \n",
       "9   post view step backwards platform -- punish ca...  \n",
       "10  get ban literally no reason . guy need stop ba...  \n",
       "21  app wo n't stop crash horrible 'm make video u...  "
      ]
     },
     "execution_count": 25,
     "metadata": {},
     "output_type": "execute_result"
    }
   ],
   "source": [
    "tiktok_data.head()"
   ]
  },
  {
   "cell_type": "code",
   "execution_count": null,
   "metadata": {},
   "outputs": [],
   "source": [
    "#!pip install vaderSentiment"
   ]
  },
  {
   "cell_type": "code",
   "execution_count": 26,
   "metadata": {},
   "outputs": [],
   "source": [
    "from vaderSentiment.vaderSentiment import SentimentIntensityAnalyzer\n",
    "\n",
    "analyzer = SentimentIntensityAnalyzer()\n",
    "\n",
    "def analizar_vader(texto):\n",
    "    # Obtener el puntaje de polaridad\n",
    "    sentiment_score = analyzer.polarity_scores(texto)\n",
    "    compound_score = sentiment_score['compound']\n",
    "\n",
    "    # Evaluar el sentimiento en base al puntaje \"compound\"\n",
    "    if compound_score >= 0.5:\n",
    "        return 'contento'  # Muy positivo\n",
    "    elif compound_score >= 0.05:\n",
    "        return 'positivo'  # Positivo\n",
    "    elif compound_score <= -0.8:\n",
    "        return 'enojado'  # Muy negativo\n",
    "    elif compound_score <= -0.5:\n",
    "        return 'insatisfecho'  #\"enojado\"\n",
    "    elif compound_score <= -0.05:\n",
    "        return 'negativo'  # Negativo\n",
    "    else:\n",
    "        return 'neutral'  # Neutral"
   ]
  },
  {
   "cell_type": "code",
   "execution_count": 27,
   "metadata": {},
   "outputs": [],
   "source": [
    "tiktok_data['sentiment'] = tiktok_data['processed_text'].apply(analizar_vader)"
   ]
  },
  {
   "cell_type": "code",
   "execution_count": 35,
   "metadata": {},
   "outputs": [
    {
     "data": {
      "text/plain": [
       "sentiment\n",
       "enojado          3834\n",
       "insatisfecho    11420\n",
       "negativo        13535\n",
       "neutral          4000\n",
       "dtype: int64"
      ]
     },
     "execution_count": 35,
     "metadata": {},
     "output_type": "execute_result"
    }
   ],
   "source": [
    "conteo_sentimientos = tiktok_data.groupby('sentiment').size()\n",
    "conteo_sentimientos"
   ]
  },
  {
   "cell_type": "code",
   "execution_count": 34,
   "metadata": {},
   "outputs": [
    {
     "data": {
      "text/html": [
       "<div>\n",
       "<style scoped>\n",
       "    .dataframe tbody tr th:only-of-type {\n",
       "        vertical-align: middle;\n",
       "    }\n",
       "\n",
       "    .dataframe tbody tr th {\n",
       "        vertical-align: top;\n",
       "    }\n",
       "\n",
       "    .dataframe thead th {\n",
       "        text-align: right;\n",
       "    }\n",
       "</style>\n",
       "<table border=\"1\" class=\"dataframe\">\n",
       "  <thead>\n",
       "    <tr style=\"text-align: right;\">\n",
       "      <th></th>\n",
       "      <th>score</th>\n",
       "    </tr>\n",
       "  </thead>\n",
       "  <tbody>\n",
       "    <tr>\n",
       "      <th>count</th>\n",
       "      <td>32789.000000</td>\n",
       "    </tr>\n",
       "    <tr>\n",
       "      <th>mean</th>\n",
       "      <td>1.687975</td>\n",
       "    </tr>\n",
       "    <tr>\n",
       "      <th>std</th>\n",
       "      <td>1.189277</td>\n",
       "    </tr>\n",
       "    <tr>\n",
       "      <th>min</th>\n",
       "      <td>1.000000</td>\n",
       "    </tr>\n",
       "    <tr>\n",
       "      <th>25%</th>\n",
       "      <td>1.000000</td>\n",
       "    </tr>\n",
       "    <tr>\n",
       "      <th>50%</th>\n",
       "      <td>1.000000</td>\n",
       "    </tr>\n",
       "    <tr>\n",
       "      <th>75%</th>\n",
       "      <td>2.000000</td>\n",
       "    </tr>\n",
       "    <tr>\n",
       "      <th>max</th>\n",
       "      <td>5.000000</td>\n",
       "    </tr>\n",
       "  </tbody>\n",
       "</table>\n",
       "</div>"
      ],
      "text/plain": [
       "              score\n",
       "count  32789.000000\n",
       "mean       1.687975\n",
       "std        1.189277\n",
       "min        1.000000\n",
       "25%        1.000000\n",
       "50%        1.000000\n",
       "75%        2.000000\n",
       "max        5.000000"
      ]
     },
     "execution_count": 34,
     "metadata": {},
     "output_type": "execute_result"
    }
   ],
   "source": [
    "#antes de pasar a hacer la lematizacion hare una eliminacion de muchos datos positivos que hay(no hay de otra)\n",
    "#eliminar muchos registros para balancear la data\n",
    "condition = tiktok_data['sentiment'] == 'neutral'\n",
    "num_to_remove = 29362\n",
    "rows_to_remove = tiktok_data[condition].head(num_to_remove)\n",
    "\n",
    "# Eliminar esas filas del DataFrame original\n",
    "tiktok_data = tiktok_data.drop(rows_to_remove.index)\n",
    "\n",
    "tiktok_data.describe()"
   ]
  },
  {
   "cell_type": "code",
   "execution_count": 36,
   "metadata": {},
   "outputs": [],
   "source": [
    "# CSV limpio\n",
    "tiktok_data.to_csv(\"../data/Tiktok_limpio.csv\", index=False)"
   ]
  }
 ],
 "metadata": {
  "kernelspec": {
   "display_name": "JaquelineDevs",
   "language": "python",
   "name": "python3"
  },
  "language_info": {
   "codemirror_mode": {
    "name": "ipython",
    "version": 3
   },
   "file_extension": ".py",
   "mimetype": "text/x-python",
   "name": "python",
   "nbconvert_exporter": "python",
   "pygments_lexer": "ipython3",
   "version": "3.12.5"
  }
 },
 "nbformat": 4,
 "nbformat_minor": 2
}
