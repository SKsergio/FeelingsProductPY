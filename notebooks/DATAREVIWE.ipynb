{
 "cells": [
  {
   "cell_type": "code",
   "execution_count": null,
   "id": "3b1b28da-435f-4059-aa4d-3251218653bd",
   "metadata": {},
   "outputs": [],
   "source": [
    "import pandas as pd"
   ]
  },
  {
   "cell_type": "code",
   "execution_count": null,
   "id": "98767b8a-4f49-4bee-b539-7e1a735b5d77",
   "metadata": {},
   "outputs": [],
   "source": [
    "#Cargar los datos\n",
    "amarello_data = pd.read_csv('../trainer_data/amarello_data2.csv')"
   ]
  },
  {
   "cell_type": "code",
   "execution_count": null,
   "id": "e0663fa2-809e-40d7-aa49-ddb9461b1a60",
   "metadata": {},
   "outputs": [],
   "source": [
    "#Limpiar los datos eliminando valores vacíos y duplicados\n",
    "amarello_data = amarello_data.dropna() \n",
    "amarello_data = amarello_data.drop_duplicates() "
   ]
  },
  {
   "cell_type": "code",
   "execution_count": null,
   "id": "491b8e9b-b5fa-4dcb-a502-cceba6abd919",
   "metadata": {},
   "outputs": [],
   "source": [
    "#Seleccionar solo las columnas necesarias (ID, DESCRIPCION, SCORE)\n",
    "amarello_data = amarello_data[['customer_id', 'description', 'score']]  \n",
    "amarello_data.columns = ['ID', 'DESCRIPCION', 'SCORE'] "
   ]
  },
  {
   "cell_type": "code",
   "execution_count": null,
   "id": "ec20b77a-3c7f-43f6-b15a-d034e1792d6f",
   "metadata": {},
   "outputs": [],
   "source": [
    "#Guardar los datos limpios en un archivo CSV\n",
    "amarello_data.to_csv('../trainer_data/amarello_data_limpia.csv', index=False)"
   ]
  },
  {
   "cell_type": "code",
   "execution_count": null,
   "id": "23254187-dca5-4960-ad1f-72663c9ab4e3",
   "metadata": {},
   "outputs": [],
   "source": [
    "#crear un Data Review básico\n",
    "data_review = {\n",
    "    'Total Registros': [len(amarello_data)],\n",
    "    'Total Valores Nulos': [amarello_data.isnull().sum().sum()],\n",
    "    'Total Duplicados': [len(amarello_data) - len(amarello_data.drop_duplicates())],\n",
    "    'Columnas': [', '.join(amarello_data.columns)],\n",
    "}\n"
   ]
  },
  {
   "cell_type": "code",
   "execution_count": 4,
   "id": "07c9b798-69a7-4e15-aa6e-e242b572bebc",
   "metadata": {},
   "outputs": [
    {
     "ename": "NameError",
     "evalue": "name 'pd' is not defined",
     "output_type": "error",
     "traceback": [
      "\u001b[1;31m---------------------------------------------------------------------------\u001b[0m",
      "\u001b[1;31mNameError\u001b[0m                                 Traceback (most recent call last)",
      "Cell \u001b[1;32mIn[4], line 1\u001b[0m\n\u001b[1;32m----> 1\u001b[0m data_review_df \u001b[38;5;241m=\u001b[39m \u001b[43mpd\u001b[49m\u001b[38;5;241m.\u001b[39mDataFrame(data_review)\n",
      "\u001b[1;31mNameError\u001b[0m: name 'pd' is not defined"
     ]
    }
   ],
   "source": [
    "data_review_df = pd.DataFrame(data_review)"
   ]
  },
  {
   "cell_type": "code",
   "execution_count": null,
   "id": "fe7ecfb8-280e-4fb5-a274-a766ccee52d4",
   "metadata": {},
   "outputs": [],
   "source": [
    "#Guardar el Data Review en un archivo CSV\n",
    "data_review_df.to_csv('../trainer_data/data_review.csv', index=False)"
   ]
  },
  {
   "cell_type": "code",
   "execution_count": 1,
   "id": "485f33f0-7d9e-4388-9482-5b8c3793f49c",
   "metadata": {},
   "outputs": [
    {
     "name": "stdout",
     "output_type": "stream",
     "text": [
      "Data limpia guardada como 'amarello_data_limpia.csv' y Data Review como 'data_review.csv'\n"
     ]
    }
   ],
   "source": [
    "print(\"Data limpia guardada como 'amarello_data_limpia.csv' y Data Review como 'data_review.csv'\")"
   ]
  },
  {
   "cell_type": "code",
   "execution_count": 3,
   "id": "597512c3-565b-4dba-844a-cacca3125a41",
   "metadata": {},
   "outputs": [
    {
     "ename": "NameError",
     "evalue": "name 'data_review_df' is not defined",
     "output_type": "error",
     "traceback": [
      "\u001b[1;31m---------------------------------------------------------------------------\u001b[0m",
      "\u001b[1;31mNameError\u001b[0m                                 Traceback (most recent call last)",
      "Cell \u001b[1;32mIn[3], line 1\u001b[0m\n\u001b[1;32m----> 1\u001b[0m \u001b[43mdata_review_df\u001b[49m\n",
      "\u001b[1;31mNameError\u001b[0m: name 'data_review_df' is not defined"
     ]
    }
   ],
   "source": [
    "data_review_df"
   ]
  },
  {
   "cell_type": "code",
   "execution_count": null,
   "id": "8d21e8cf-a9a8-4fd6-86c1-07dbb5ac4eeb",
   "metadata": {},
   "outputs": [],
   "source": []
  },
  {
   "cell_type": "code",
   "execution_count": null,
   "id": "33c13445-5efa-4a06-867b-11b1665ca88e",
   "metadata": {},
   "outputs": [],
   "source": []
  }
 ],
 "metadata": {
  "kernelspec": {
   "display_name": "Python 3 (ipykernel)",
   "language": "python",
   "name": "python3"
  },
  "language_info": {
   "codemirror_mode": {
    "name": "ipython",
    "version": 3
   },
   "file_extension": ".py",
   "mimetype": "text/x-python",
   "name": "python",
   "nbconvert_exporter": "python",
   "pygments_lexer": "ipython3",
   "version": "3.13.0"
  }
 },
 "nbformat": 4,
 "nbformat_minor": 5
}
